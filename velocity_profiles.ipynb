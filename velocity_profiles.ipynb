{
 "cells": [
  {
   "cell_type": "code",
   "execution_count": null,
   "id": "eab749b9",
   "metadata": {},
   "outputs": [],
   "source": [
    "import pandas as pd\n",
    "import numpy as np\n",
    "import pylab as pl\n",
    "import scipy.io as sio\n",
    "import seaborn as sns\n",
    "import statsmodels.api as sm\n",
    "import funcs as func\n",
    "import sys\n",
    "import pdb\n",
    "import scipy.signal as sp_sig\n",
    "import glob\n",
    "import more_itertools as mit\n",
    "import matplotlib.pyplot as plt\n",
    "import os\n",
    "\n",
    "import warnings\n",
    "warnings.simplefilter(action='ignore', category=FutureWarning)\n",
    "\n",
    "cwd = os.getcwd()\n",
    "\n",
    "print(cwd)\n",
    "data_dir = cwd+\"/Data/Y_maze/data_with_animal_ids/\"\n",
    "data_target_dir = cwd+\"/Data/processed_data/Y_maze/data_with_animal_ids/\"\n",
    "figure_dir = cwd+\"/Figures/\"\n"
   ]
  },
  {
   "cell_type": "code",
   "execution_count": null,
   "id": "451eb823",
   "metadata": {},
   "outputs": [],
   "source": [
    "#experiment_type = \"NoConfLowVolDTs\"\n",
    "\n",
    "plt.rcParams[\"figure.facecolor\"] = \"w\""
   ]
  },
  {
   "cell_type": "code",
   "execution_count": null,
   "id": "d26d7085",
   "metadata": {},
   "outputs": [],
   "source": [
    "col_names = [\"time (ms)\",\"event_marker\",\"current_trial_num_in_block\",\"block\",\"low_rew_%\",\"high_rew_%\",\"low_trial_range(block)\",\"high_trial_range(block)\",\"block#\",\"rewarded_trial_count\",\"total_trial_count\",\"sig\",\"x_pos\",\"y_pos\",\"trip\",\"chnc\",\"current_hall\",\"previous_hall\",\"lick_rate_hall1\",\"lick_rate_hall2\",\"lick_rate_hall3\",\"wtr\",\"mouse_distance\",\"TTL\"]\n",
    "\n",
    "non_action_em = [0,11,12,9,10]\n",
    "left_action_em = [1,2,3,4]\n",
    "right_action_em = [5,6,7,8]\n",
    "rewarded_em = [1,3,5,7]\n",
    "unrewarded_em = [2,4,6,8]"
   ]
  },
  {
   "cell_type": "code",
   "execution_count": null,
   "id": "85bd6a55",
   "metadata": {},
   "outputs": [],
   "source": [
    "\n",
    "def read_raw_data(mat,ids):\n",
    "    # block, 0 = left, 1 = right\n",
    "    #columns = [\"time (ms)\", \"event_markers\", \"current_trial_num_in_block\",\"block\",\"reward_probability\",\"conflict\",\"volatility\",\"block_num\",\"rewarded\",\"action_chosen\",\"condition\"]\n",
    "    r,c = np.shape(mat[0])\n",
    "    raw_df = pd.DataFrame(columns = list(np.arange(0,c,1))+[\"session\"])\n",
    "    ids1 = np.hstack(ids)[0]\n",
    "    print(ids1)\n",
    "    for i in np.arange(len(mat)):\n",
    "        temp = pd.DataFrame(mat[i])\n",
    "        temp[\"session\"] = i\n",
    "        temp[\"animal_id\"] = ids1[i]\n",
    "        raw_df = raw_df.append(temp)\n",
    "\n",
    "    return raw_df\n",
    "\n",
    "\n",
    "def filter_ts(data,fs,fc):\n",
    "#     fc = 30  # Cut-off frequency of the filter\n",
    "    w = fc / (fs / 2) # Normalize the frequency\n",
    "    b, a = sp_sig.butter(5, w, 'low')\n",
    "    output = sp_sig.filtfilt(b, a, data)\n",
    "    \n",
    "    return output\n",
    "\n",
    "def calc_velocity_profiles(raw_df,exp_type):\n",
    "    xy = np.zeros((len(raw_df),2))\n",
    "    xy[:,0] = raw_df[\"x_pos\"].values\n",
    "    xy[:,1] = raw_df[\"y_pos\"].values\n",
    "    conf = exp_type.split('Conf')[0]\n",
    "    cond = exp_type.split('Vol')[1]\n",
    "    #cond = \"Control\" # change when stim data is here !!!!!!\n",
    "    vol = exp_type.split('Vol')[0].split('Conf')[1]\n",
    "\n",
    "    speed = np.sqrt(np.diff(xy[:,0])**2+np.diff(xy[:,1])**2)\n",
    "    speed = np.insert(speed,0,0)\n",
    "    smooth_speed = np.convolve(speed,np.ones(30,dtype=int),'same')/30.\n",
    "    fs = 1./(np.mean(np.diff(raw_df[\"time (ms)\"].values)))*1000\n",
    "    speed_filt = filter_ts(smooth_speed,fs,35)\n",
    "    acc = np.gradient(speed_filt)\n",
    "#     acc = np.insert(acc,0,0)\n",
    "    flags = np.zeros((len(acc)))\n",
    "#     ind = sp_sig.find_peaks(-speed_filt)[0] #what you need\n",
    "    ind = np.where(np.abs(acc)<0.02)[0]\n",
    "    flags[ind] = 1\n",
    "    raw_df[\"speed\"] = smooth_speed\n",
    "    raw_df[\"speed_filt\"] = speed_filt\n",
    "    raw_df[\"acceleration\"] = acc\n",
    "    raw_df[\"DT_markers\"] = flags\n",
    "    raw_df[\"conflict\"] = conf\n",
    "    raw_df[\"volatility\"] = vol\n",
    "    raw_df[\"condition\"] = cond\n",
    "    ind_nomid = np.where(np.logical_and(raw_df[\"DT_markers\"].values==1,raw_df[\"current_hall\"]!=0))[0]\n",
    "    trial_change = np.where(raw_df[\"current_trial_num_in_block\"]!=raw_df[\"current_trial_num_in_block\"].shift(1))[0] #,raw_df[\"current_hall\"]!=0))[0]\n",
    "    \n",
    "    final_flag = np.zeros((len(acc)))\n",
    "    for i,tc in enumerate(trial_change[:-1]):\n",
    "        ind_nomid_trial = ind_nomid[np.logical_and(ind_nomid>=tc,ind_nomid<trial_change[1+i])]\n",
    "        potential_dts = [list(group) for group in mit.consecutive_groups(ind_nomid_trial)]\n",
    "        if len(potential_dts) > 1:\n",
    "            longest = np.argmax([len(x) for x in potential_dts])\n",
    "            lowest_speed = np.argmin([ np.mean(speed_filt[x]) for x in potential_dts])\n",
    "            if longest == lowest_speed:\n",
    "                final_flag[potential_dts[longest]] = 1\n",
    "            else:\n",
    "                final_flag[potential_dts[lowest_speed]] = 1\n",
    "        else:\n",
    "            final_flag[potential_dts] = 1\n",
    "    raw_df[\"DT_markers_new\"] = final_flag\n",
    "        \n",
    "\n",
    "    return raw_df"
   ]
  },
  {
   "cell_type": "code",
   "execution_count": null,
   "id": "fd37ce8d",
   "metadata": {},
   "outputs": [],
   "source": [
    "velocity_profiles = pd.DataFrame()\n",
    "exp_files = glob.glob(data_dir+\"*.mat\")\n",
    "print(exp_files)\n",
    "for ef in exp_files:\n",
    "    print(ef)\n",
    "    exp_type = ef.split('/')[-1].split('.')[0].split('_')[0]\n",
    "    print(exp_type)\n",
    "    exp_mat = sio.loadmat(ef)\n",
    "    raw_df = read_raw_data(exp_mat['overlap'][0],exp_mat['overlap'][2])\n",
    "    # Replace the column numbers with the labels that Julia gave\n",
    "    raw_df = raw_df.rename(columns={i:cn for i,cn in zip(np.arange(len(col_names)),col_names)})\n",
    "    \n",
    "    raw_df = calc_velocity_profiles(raw_df,exp_type)\n",
    "    velocity_profiles = velocity_profiles.append(raw_df)\n",
    "\n",
    "velocity_profiles = velocity_profiles.reset_index()\n",
    "velocity_profiles.to_csv(data_target_dir+\"velocity_profiles.csv\")\n",
    "    \n",
    "\n",
    "    "
   ]
  },
  {
   "cell_type": "code",
   "execution_count": null,
   "id": "6b48cbf5",
   "metadata": {},
   "outputs": [],
   "source": [
    "fs"
   ]
  },
  {
   "cell_type": "code",
   "execution_count": null,
   "id": "d1f68d79",
   "metadata": {},
   "outputs": [],
   "source": [
    "    xy[:,0] = raw_df[\"x_pos\"].values\n",
    "    xy[:,1] = raw_df[\"y_pos\"].values\n",
    "    \n",
    "    speed = np.sqrt(np.diff(xy[:,0])**2+np.diff(xy[:,1])**2)\n",
    "    conf = exp_type.split('Conf')[0]\n",
    "    cond = exp_type.split('Vol')[1]\n",
    "    #cond = \"Control\" # change when stim data is here !!!!!!\n",
    "    vol = exp_type.split('Vol')[0].split('Conf')[1]\n",
    "    speed = np.insert(speed,0,0)\n",
    "    \n",
    "    smooth_speed = np.convolve(speed,np.ones(30,dtype=int),'same')/30.\n",
    "    fs = 1./(np.mean(np.diff(raw_df[\"time (ms)\"].values)))*1000\n",
    "    \n",
    "    # What frequency should we filter ? \n",
    "    \n",
    "    speed_filt = filter_ts(smooth_speed,fs,35)\n",
    "    \n",
    "    acc = np.gradient(speed_filt)\n",
    "#     acc = np.insert(acc,0,0)\n",
    "    flags = np.zeros((len(acc)))\n",
    "#     ind = sp_sig.find_peaks(-speed_filt)[0] #what you need\n",
    "    ind = np.where(np.abs(acc)<0.02)[0]\n",
    "    flags[ind] = 1\n",
    "    raw_df[\"speed\"] = smooth_speed\n",
    "    raw_df[\"speed_filt\"] = speed_filt\n",
    "    raw_df[\"acceleration\"] = acc\n",
    "    raw_df[\"DT_markers\"] = flags\n",
    "    raw_df[\"conflict\"] = conf\n",
    "    raw_df[\"volatility\"] = vol\n",
    "    raw_df[\"condition\"] = cond\n",
    "    ind_nomid = np.where(np.logical_and(raw_df[\"DT_markers\"].values==1,raw_df[\"current_hall\"]!=0))[0]\n",
    "    trial_change = np.where(raw_df[\"current_trial_num_in_block\"]!=raw_df[\"current_trial_num_in_block\"].shift(1))[0] #,raw_df[\"current_hall\"]!=0))[0]\n",
    "    \n",
    "    final_flag = np.zeros((len(acc)))\n",
    "    for i,tc in enumerate(trial_change[:-1]):\n",
    "        ind_nomid_trial = ind_nomid[np.logical_and(ind_nomid>=tc,ind_nomid<trial_change[1+i])]\n",
    "        potential_dts = [list(group) for group in mit.consecutive_groups(ind_nomid_trial)]\n",
    "        if len(potential_dts) > 1:\n",
    "            longest = np.argmax([len(x) for x in potential_dts])\n",
    "            lowest_speed = np.argmin([ np.mean(speed_filt[x]) for x in potential_dts])\n",
    "            if longest == lowest_speed:\n",
    "                final_flag[potential_dts[longest]] = 1\n",
    "            else:\n",
    "                final_flag[potential_dts[lowest_speed]] = 1\n",
    "        else:\n",
    "            final_flag[potential_dts] = 1\n",
    "    raw_df[\"DT_markers_new\"] = final_flag\n",
    "#     new_raw_df = pd.DataFrame()\n",
    "#     for grp in raw_df.groupby([\"session\",\"block#\",\"current_trial_num_in_block\",\"animal_id\"]):\n",
    "#         ind_nomid = np.where(np.logical_and(grp[1][\"DT_markers\"].values==1,grp[1][\"current_hall\"]!=0))[0] # Ignore if the animal slows down in the middle of Y-maze\n",
    "#         potential_dts = [list(group) for group in mit.consecutive_groups(ind_nomid)]\n",
    "# #         print(potential_dts)\n",
    "#         if len(potential_dts) > 1:\n",
    "#             longest = np.argmax([len(x) for x in potential_dts])\n",
    "#             new_dt = np.zeros((len(grp[1])))\n",
    "#             new_dt[potential_dts[longest]] = 1\n",
    "#             grp[1][\"DT_markers_new\"] = new_dt\n",
    "#             new_raw_df = new_raw_df.append(grp[1][[\"speed\",\"speed_filt\",\"DT_markers_new\",\"time (ms)\",\"session\",\"block#\",\"current_trial_num_in_block\"]])\n",
    "        #print(ind_nomid)\n",
    "        \n",
    "        \n",
    "        \n",
    "        \n",
    "        \n",
    "        \n",
    "    \n",
    "    \n",
    "#     velocity_profiles = velocity_profiles.append(raw_df)\n"
   ]
  },
  {
   "cell_type": "code",
   "execution_count": null,
   "id": "f6882530",
   "metadata": {},
   "outputs": [],
   "source": []
  },
  {
   "cell_type": "code",
   "execution_count": null,
   "id": "0a4cb0dc",
   "metadata": {},
   "outputs": [],
   "source": []
  },
  {
   "cell_type": "code",
   "execution_count": null,
   "id": "d78b533c",
   "metadata": {},
   "outputs": [],
   "source": [
    "# raw_df[\"DT_markers_new\"] = final_flag"
   ]
  },
  {
   "cell_type": "code",
   "execution_count": null,
   "id": "c6e3135c",
   "metadata": {},
   "outputs": [],
   "source": [
    "potential_dts = [list(group) for group in mit.consecutive_groups(ind_nomid_trial)]"
   ]
  },
  {
   "cell_type": "code",
   "execution_count": null,
   "id": "36801bba",
   "metadata": {},
   "outputs": [],
   "source": [
    "potential_dts"
   ]
  },
  {
   "cell_type": "code",
   "execution_count": null,
   "id": "3c6e54b5",
   "metadata": {},
   "outputs": [],
   "source": [
    "np.unique(raw_df[\"session\"])"
   ]
  },
  {
   "cell_type": "code",
   "execution_count": null,
   "id": "bf96ea7b",
   "metadata": {},
   "outputs": [],
   "source": [
    "np.unique(raw_df[\"block#\"])"
   ]
  },
  {
   "cell_type": "code",
   "execution_count": null,
   "id": "81c52beb",
   "metadata": {},
   "outputs": [],
   "source": [
    "import scipy.signal as sp_sig"
   ]
  },
  {
   "cell_type": "code",
   "execution_count": null,
   "id": "5a94ab11",
   "metadata": {},
   "outputs": [],
   "source": [
    "sub_dat = raw_df.loc[(raw_df[\"session\"]==1)&(raw_df[\"block#\"] == 2)]\n",
    "# trial_change = np.where(sub_dat[\"current_trial_num_in_block\"]!=sub_dat[\"current_trial_num_in_block\"].shift(1))[0] #,raw_df[\"current_hall\"]!=0))[0]\n",
    "# ind_nomid = np.where(np.logical_and(sub_dat[\"DT_markers\"].values==1,sub_dat[\"current_hall\"]!=0))[0]    \n",
    "# final_flag = np.zeros((len(sub_dat)))\n",
    "# for i,tc in enumerate(trial_change[:-1]):\n",
    "#     ind_nomid_trial = ind_nomid[np.logical_and(ind_nomid>=tc,ind_nomid<trial_change[1+i])]\n",
    "#     potential_dts = [list(group) for group in mit.consecutive_groups(ind_nomid_trial)]\n",
    "#     if len(potential_dts) > 1:\n",
    "#         longest = np.argmax([len(x) for x in potential_dts])\n",
    "#         final_flag[potential_dts[longest]] = 1\n",
    "#     else:\n",
    "#         final_flag[potential_dts] = 1\n",
    "\n",
    "# sub_dat[\"DT_markers_new\"] = final_flag"
   ]
  },
  {
   "cell_type": "code",
   "execution_count": null,
   "id": "b0f769ac",
   "metadata": {},
   "outputs": [],
   "source": [
    "final_flag[potential_dts[longest]]"
   ]
  },
  {
   "cell_type": "code",
   "execution_count": null,
   "id": "513bfb25",
   "metadata": {},
   "outputs": [],
   "source": [
    "# sub_dat = raw_df.loc[(raw_df[\"session\"]==np.min(raw_df[\"session\"]))&(raw_df[\"block#\"] == np.min(raw_df[\"block#\"]))]\n",
    "# for grp in sub_dat.groupby(\"current_trial_num_in_block\"):\n",
    "fig,ax = pl.subplots(1,1,figsize=(20,10))\n",
    "sns.lineplot(x=\"time (ms)\",y=\"speed\",data=sub_dat,ax=ax)\n",
    "sns.lineplot(x=\"time (ms)\",y=\"speed_filt\",data=sub_dat,ax=ax)\n",
    "\n",
    "# ind = np.where(np.logical_and(sub_dat[\"DT_markers_new\"].values==1),sub_dat[\"current_hall\"]!=0))[0]\n",
    "ind = np.where(sub_dat[\"DT_markers_new\"].values==1)[0] #,sub_dat[\"current_hall\"]!=0))[0]\n",
    "# ind = sp_sig.argrelmin(sub_dat[\"speed\"].values)\n",
    "ax.plot(sub_dat.iloc[ind][\"time (ms)\"],sub_dat.iloc[ind][\"speed_filt\"],'.',color='green')\n",
    "\n",
    "trial_change = np.where(np.logical_and(sub_dat[\"current_trial_num_in_block\"]!=sub_dat[\"current_trial_num_in_block\"].shift(1),sub_dat[\"current_hall\"]!=0))[0]\n",
    "ax.plot(sub_dat.iloc[trial_change][\"time (ms)\"],sub_dat.iloc[trial_change][\"speed_filt\"],'*',color='firebrick',ms=10)\n",
    "# fig1,ax1 = pl.subplots(1,1,figsize=(20,10))\n",
    "\n",
    "# sns.lineplot(x=\"time (ms)\",y=\"acceleration\",data=sub_dat,ax=ax1)\n",
    "# ax1.plot(sub_dat.iloc[ind][\"time (ms)\"],sub_dat.iloc[ind][\"acceleration\"],'.',color='darkorange')\n",
    "# sns.lineplot(x=\"time (ms)\",y=\"acceleration\",data=sub_dat.loc[sub_dat[\"DT_markers\"]==1],ax=ax1)"
   ]
  },
  {
   "cell_type": "code",
   "execution_count": null,
   "id": "6e4cfa02",
   "metadata": {},
   "outputs": [],
   "source": [
    "data = sub_dat[\"speed\"].copy()\n",
    "fftfreq = np.fft.fftfreq(len(data),d=1./fs)\n",
    "fft = np.abs(np.fft.fft(data-np.mean(data)))\n",
    "\n",
    "pl.figure(figsize=(10,10))\n",
    "pl.plot(data)\n",
    "\n",
    "\n"
   ]
  },
  {
   "cell_type": "code",
   "execution_count": null,
   "id": "4a4c5a9b",
   "metadata": {},
   "outputs": [],
   "source": [
    "pl.figure(figsize=(10,10))\n",
    "pl.plot(fftfreq[:int(len(fftfreq)/2)],fft[:int(len(fftfreq)/2)],'b-')\n",
    "\n",
    "pl.xlim(0,100)"
   ]
  },
  {
   "cell_type": "code",
   "execution_count": null,
   "id": "a058acd0",
   "metadata": {},
   "outputs": [],
   "source": [
    "np.argmax(fft[:int(len(fftfreq)/2)])\n"
   ]
  },
  {
   "cell_type": "code",
   "execution_count": null,
   "id": "5d026d66",
   "metadata": {},
   "outputs": [],
   "source": [
    "fftfreq[:int(len(fftfreq)/2)][15]"
   ]
  },
  {
   "cell_type": "code",
   "execution_count": null,
   "id": "448eb23d",
   "metadata": {},
   "outputs": [],
   "source": []
  }
 ],
 "metadata": {
  "kernelspec": {
   "display_name": "Python 3 (ipykernel)",
   "language": "python",
   "name": "python3"
  },
  "language_info": {
   "codemirror_mode": {
    "name": "ipython",
    "version": 3
   },
   "file_extension": ".py",
   "mimetype": "text/x-python",
   "name": "python",
   "nbconvert_exporter": "python",
   "pygments_lexer": "ipython3",
   "version": "3.8.12"
  }
 },
 "nbformat": 4,
 "nbformat_minor": 5
}
