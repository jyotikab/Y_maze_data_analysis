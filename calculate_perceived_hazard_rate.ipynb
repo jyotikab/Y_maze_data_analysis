{
 "cells": [
  {
   "cell_type": "code",
   "execution_count": 1,
   "id": "fbe15064",
   "metadata": {},
   "outputs": [],
   "source": [
    "import pandas as pd\n",
    "import numpy as np\n",
    "import pylab as pl\n",
    "import scipy.io as sio\n",
    "import seaborn as sns\n",
    "import statsmodels.api as sm\n",
    "import funcs as func\n",
    "import matplotlib.pyplot as plt\n",
    "import sys\n",
    "import pdb\n",
    "import glob\n",
    "import pickle\n",
    "import matplotlib.cm as cm\n",
    "import dill\n",
    "import scipy.stats as sp_st\n",
    "from statannot import add_stat_annotation\n",
    "from sklearn.model_selection import LeaveOneGroupOut, KFold,StratifiedKFold\n",
    "from sklearn.linear_model import LogisticRegression, LogisticRegressionCV\n",
    "from sklearn.metrics import roc_auc_score\n",
    "\n",
    "\n",
    "import sys\n",
    "sys.path.append('/home/jyotika/Utils/hddm/')\n",
    "\n",
    "import hddm\n",
    "\n",
    "data_dir = \"./Data/processed_data/Y_maze/data_with_animal_ids/\"\n",
    "data_target_dir = \"./Data/processed_data/Y_maze/data_with_animal_ids/for_b_cpp_calculation/\"\n",
    "data_target_dir2 = \"./Data/processed_data/Y_maze/data_with_animal_ids/for_ddm_models/\"\n",
    "fig_target_dir = \"./Figures/Y_maze/\"\n",
    "\n",
    "plt.rcParams[\"figure.facecolor\"] = \"w\"\n"
   ]
  },
  {
   "cell_type": "code",
   "execution_count": 2,
   "id": "5c73abd4",
   "metadata": {},
   "outputs": [],
   "source": [
    "block_change_aligned_df = pd.read_csv(data_target_dir2+\"block_change_aligned_df.csv\")"
   ]
  },
  {
   "cell_type": "code",
   "execution_count": 3,
   "id": "c46aaeb5",
   "metadata": {},
   "outputs": [],
   "source": [
    "block_change_aligned_df[\"nuclei\"] = [x.split('-')[0] for x in block_change_aligned_df[\"condition\"]]\n",
    "block_change_aligned_df[\"experiment_type\"] = [x.split('-')[1] for x in block_change_aligned_df[\"condition\"]]\n",
    "block_change_aligned_df[\"experiment_type1\"] = [ x if x.split('-')[1] == \"Stim\" else x.split('-')[1] for x in block_change_aligned_df[\"condition\"]]\n",
    "block_change_aligned_df[\"conflict + volatility\"] = [x+\"-\"+y   for x,y in zip(block_change_aligned_df[\"conflict\"], block_change_aligned_df[\"volatility\"])]\n",
    "block_change_aligned_df[\"response\"] = (block_change_aligned_df[\"chosen_action\"]==block_change_aligned_df[\"optimal\"]).astype(int)"
   ]
  },
  {
   "cell_type": "code",
   "execution_count": 4,
   "id": "6e09205f",
   "metadata": {},
   "outputs": [
    {
     "data": {
      "text/plain": [
       "Index(['Unnamed: 0', 'Unnamed: 0.1', 'Unnamed: 0.1.1', 'r_t0', 'r_t1', 'cp',\n",
       "       'epoch_number', 'reward_p_t0', 'session', 'conflict', 'volatility',\n",
       "       'condition', 'p_id_solution', 'action_history', 'chosen_action',\n",
       "       'trial_num', 'animal_id', 'optimal', 'rt', 'block_num', 'rewarded',\n",
       "       'cpp', 'ideal_B', 'b_t0', 'b_t1', 'MC', 'learning_rate',\n",
       "       'H(hazard_rate)', 'sigma_estimated', 'u_val', 'n_val', 'block_change',\n",
       "       'trials_from_change_point', 'block_change_type', 'block_num_change',\n",
       "       'nuclei', 'experiment_type', 'experiment_type1',\n",
       "       'conflict + volatility', 'response'],\n",
       "      dtype='object')"
      ]
     },
     "execution_count": 4,
     "metadata": {},
     "output_type": "execute_result"
    }
   ],
   "source": [
    "block_change_aligned_df.columns"
   ]
  },
  {
   "cell_type": "code",
   "execution_count": null,
   "id": "5408e0bc",
   "metadata": {},
   "outputs": [],
   "source": [
    "def func(belief,H):\n",
    "    "
   ]
  },
  {
   "cell_type": "code",
   "execution_count": null,
   "id": "bba496ff",
   "metadata": {},
   "outputs": [],
   "source": [
    "for grp in block_change_aligned_df.groupby([\"animal_id\",\"conflict\",\"volatility\",\"condition\",\"session\"]):    \n",
    "    \n",
    "    belief = grp[1][\"ideal_B\"]\n",
    "    Y = np.array(grp[1][\"response\"])\n",
    "    \n",
    "    \n",
    "    \n",
    "    "
   ]
  }
 ],
 "metadata": {
  "kernelspec": {
   "display_name": "Python 3 (ipykernel)",
   "language": "python",
   "name": "python3"
  },
  "language_info": {
   "codemirror_mode": {
    "name": "ipython",
    "version": 3
   },
   "file_extension": ".py",
   "mimetype": "text/x-python",
   "name": "python",
   "nbconvert_exporter": "python",
   "pygments_lexer": "ipython3",
   "version": "3.8.12"
  }
 },
 "nbformat": 4,
 "nbformat_minor": 5
}
