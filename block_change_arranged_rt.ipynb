{
 "cells": [
  {
   "cell_type": "code",
   "execution_count": null,
   "id": "3968a142",
   "metadata": {},
   "outputs": [],
   "source": [
    "import pandas as pd\n",
    "import numpy as np\n",
    "import pylab as pl\n",
    "import scipy.io as sio\n",
    "import seaborn as sns\n",
    "import statsmodels.api as sm\n",
    "import funcs as func\n",
    "import matplotlib.pyplot as plt\n",
    "import sys\n",
    "import pdb\n",
    "import glob\n",
    "import pickle\n",
    "import dill\n",
    "\n",
    "import sys\n",
    "sys.path.append('/home/jyotika/Utils/hddm/')\n",
    "\n",
    "import hddm\n",
    "\n",
    "data_dir = \"./Data/Y_maze/Decision_times/\"\n",
    "data_target_dir = \"./Data/processed_data/Y_maze/data_with_animal_ids/\"\n",
    "figure_dir = \"./Figures/Y_maze/\"\n",
    "\n",
    "plt.rcParams[\"figure.facecolor\"] = \"w\""
   ]
  },
  {
   "cell_type": "code",
   "execution_count": null,
   "id": "e6d615a9",
   "metadata": {},
   "outputs": [],
   "source": [
    "all_conflicts = pd.read_csv(data_target_dir+\"all_experiments_df_with_DTs.csv\")\n",
    "all_conflicts = all_conflicts.loc[all_conflicts[\"condition\"]==\"Control\"]\n",
    "# all_conflicts[\"Day\"] = [ int(x/5)  for x in all_conflicts[\"session\"]]"
   ]
  },
  {
   "cell_type": "code",
   "execution_count": null,
   "id": "6b8ee7a0",
   "metadata": {},
   "outputs": [],
   "source": [
    "# g1 = sns.catplot(x=\"trial_num\",y=\"RT(ms)\",col=\"conflict + volatility\",data=all_conflicts,col_wrap=3,kind='point',hue='block_num',n_boot=100,sharey=False,sharex=False )"
   ]
  },
  {
   "cell_type": "code",
   "execution_count": null,
   "id": "b8ca9a5b",
   "metadata": {},
   "outputs": [],
   "source": [
    "all_conflicts"
   ]
  },
  {
   "cell_type": "code",
   "execution_count": null,
   "id": "1522c93f",
   "metadata": {},
   "outputs": [],
   "source": [
    "for grp in all_conflicts.groupby([\"condition\",\"conflict\",\"volatility\",\"session\"]):\n",
    "    \n",
    "    g1 = sns.relplot(x=\"block_num\",y=\"RT(ms)\",data=grp[1],hue=\"animal_id\",kind='line')\n",
    "    "
   ]
  },
  {
   "cell_type": "code",
   "execution_count": null,
   "id": "3fbf4b05",
   "metadata": {},
   "outputs": [],
   "source": [
    "sess5 = all_conflicts.loc[(all_conflicts[\"session\"]>4)&(all_conflicts[\"session\"]<9)&(all_conflicts[\"block_num\"]<50)&(all_conflicts[\"volatility\"]==\"Low\")]\n",
    "sess5[\"block_group(of 10)\"] = [ int(x/20)  for x in sess5[\"block_num\"]]\n",
    "sess5[\"(session,block)\"] = [ (y,int(x/20))  for x,y in zip(sess5[\"block_num\"],sess5[\"session\"]) ]"
   ]
  },
  {
   "cell_type": "code",
   "execution_count": null,
   "id": "5c92ceb0",
   "metadata": {},
   "outputs": [],
   "source": [
    "hue_order = np.unique(sess0[\"(session,block)\"].sort_values())"
   ]
  },
  {
   "cell_type": "code",
   "execution_count": null,
   "id": "7ba84100",
   "metadata": {},
   "outputs": [],
   "source": [
    "g1 = sns.relplot(x=\"block_num\",y=\"RT(ms)\",col=\"conflict\",data=sess5,col_wrap=1,kind='line',n_boot=100,facet_kws={'sharex':False},palette='tab10',col_order=[\"No\",\"Low\", \"High\"] ,height=5,aspect=4,hue=\"block\")\n",
    "for ax in g1.axes:\n",
    "    xlims = ax.get_xlim()\n",
    "    ax.hlines(y=500,xmin=xlims[0],xmax=xlims[1],color='k',ls='dashed',lw=2.5)\n",
    "    ax.set_xlim(xlims[0],xlims[1])"
   ]
  },
  {
   "cell_type": "code",
   "execution_count": null,
   "id": "73b09a45",
   "metadata": {},
   "outputs": [],
   "source": [
    "sns.catplot(x=\"conflict\",y=\"RT(ms)\",data=all_conflicts,order=[\"No\",\"Low\",\"High\"],col=\"volatility\",kind='point',hue='session')"
   ]
  },
  {
   "cell_type": "code",
   "execution_count": null,
   "id": "e21489b1",
   "metadata": {},
   "outputs": [],
   "source": [
    "np.unique(sess0[\"(session,block)\"].sort_values())"
   ]
  },
  {
   "cell_type": "code",
   "execution_count": null,
   "id": "049623de",
   "metadata": {},
   "outputs": [],
   "source": []
  },
  {
   "cell_type": "code",
   "execution_count": null,
   "id": "7ef5831d",
   "metadata": {},
   "outputs": [],
   "source": [
    "block_change_aligned_df = pd.DataFrame()\n",
    "for grp in all_conflicts.groupby([\"conflict + volatility\",\"Day\",\"session\"]):\n",
    "    print(grp[0])\n",
    "    dat_slice = grp[1].copy()\n",
    "    dat_slice[\"block_change\"] = (grp[1][\"block_num\"]!=grp[1][\"block_num\"].shift()).astype(int)\n",
    "    ind_block_change = np.where(dat_slice[\"block_change\"])[0]\n",
    "    print(ind_block_change)\n",
    "    for x in ind_block_change[1:]:\n",
    "        if dat_slice.iloc[x-1][\"block\"] == \"left\" and dat_slice.iloc[x][\"block\"] == \"right\":\n",
    "            bc_type = \"left->right\"\n",
    "        elif dat_slice.iloc[x-1][\"block\"] == \"right\" and dat_slice.iloc[x][\"block\"] == \"left\":\n",
    "            bc_type = \"right->left\"\n",
    "        for i in np.arange(x-2,x+10):\n",
    "            if i > np.max(ind_block_change):\n",
    "                continue\n",
    "            #print(i)\n",
    "            sub_slice = dat_slice.iloc[i]\n",
    "            sub_slice[\"trials_from_change_point\"] = i-x\n",
    "            sub_slice[\"block_change_type\"] = bc_type\n",
    "            block_change_aligned_df = block_change_aligned_df.append(sub_slice)"
   ]
  },
  {
   "cell_type": "code",
   "execution_count": null,
   "id": "1b0e79a9",
   "metadata": {},
   "outputs": [],
   "source": [
    "block_change_aligned_df = block_change_aligned_df.reset_index(drop=True)"
   ]
  },
  {
   "cell_type": "code",
   "execution_count": null,
   "id": "68f7e6ca",
   "metadata": {},
   "outputs": [],
   "source": [
    "block_change_aligned_df.iloc[np.where(block_change_aligned_df.index.duplicated())]"
   ]
  },
  {
   "cell_type": "code",
   "execution_count": null,
   "id": "daa496a2",
   "metadata": {},
   "outputs": [],
   "source": [
    "block_change_aligned_df.to_csv(data_target_dir+\"block_change_aligned_df.csv\")"
   ]
  },
  {
   "cell_type": "code",
   "execution_count": null,
   "id": "29a48697",
   "metadata": {},
   "outputs": [],
   "source": [
    "col_order = [ conf+\" - \"+vol  for vol in [\"Low\",\"High\"] for conf in [\"No\",\"Low\",\"High\"]]\n",
    "col_order"
   ]
  },
  {
   "cell_type": "code",
   "execution_count": null,
   "id": "d176640d",
   "metadata": {},
   "outputs": [],
   "source": [
    "block_change_aligned_df[\"session_group\"] = [ int(x/3)  for x in block_change_aligned_df[\"session\"]]\n",
    "block_change_aligned_df[\"sg + bc_type\"] = block_change_aligned_df[\"session_group\"].astype(str)+\" - \"+block_change_aligned_df[\"block_change_type\"]\n",
    "block_change_aligned_df[\"block_group\"] = [ int(x/5)  for x in block_change_aligned_df[\"block_num\"]]\n",
    "block_change_aligned_df[\"error_rate\"] = 1- block_change_aligned_df[\"optimal_action\"].values\n",
    "\n",
    "# sess = block_change_aligned_df.loc[(block_change_aligned_df[\"session\"]<20)&(block_change_aligned_df[\"session\"]>0)]\n",
    "# sess = block_change_aligned_df.loc[block_change_aligned_df[\"session\"]==2] # very good session 2,5\n",
    "# sess = block_change_aligned_df.loc[block_change_aligned_df[\"session\"]==5]\n",
    "sess_no = block_change_aligned_df.loc[(block_change_aligned_df[\"conflict\"]== \"No\")&(block_change_aligned_df[\"volatility\"]==\"Low\")]\n",
    "sess_low = block_change_aligned_df.loc[(block_change_aligned_df[\"conflict\"]== \"Low\")&(block_change_aligned_df[\"volatility\"]==\"Low\")]\n",
    "sess_high = block_change_aligned_df.loc[(block_change_aligned_df[\"conflict\"]== \"High\")&(block_change_aligned_df[\"volatility\"]==\"Low\")]"
   ]
  },
  {
   "cell_type": "code",
   "execution_count": null,
   "id": "bb1f64f4",
   "metadata": {},
   "outputs": [],
   "source": [
    "sess"
   ]
  },
  {
   "cell_type": "code",
   "execution_count": null,
   "id": "2a5bf8e4",
   "metadata": {},
   "outputs": [],
   "source": [
    "# sns.relplot(x=\"trials_from_change_point\",y=\"RT(ms)\",data=sess,col=\"conflict + volatility\",col_wrap=3,kind='line',hue='session_group',palette='magma',col_order=col_order,lw=3.5,facet_kws={'sharey':True})\n",
    "# sns.relplot(x=\"trials_from_change_point\",y=\"RT(ms)\",data=sess,col=\"conflict\",col_wrap=3,kind='line',hue='session_group',palette='magma',lw=3.5,facet_kws={'sharey':True},col_order=[\"No\",\"Low\",\"High\"])\n",
    "g1 = sns.relplot(x=\"trials_from_change_point\",y=\"RT(ms)\",data=sess_no,col=\"Day\",col_wrap=3,kind='line',hue='block_change_type',palette='magma',lw=3.5,facet_kws={'sharey':True})\n",
    "for ax in g1.axes:\n",
    "    ax.set_ylim(400,3000)\n"
   ]
  },
  {
   "cell_type": "code",
   "execution_count": null,
   "id": "5f500fe8",
   "metadata": {},
   "outputs": [],
   "source": [
    "g1 = sns.relplot(x=\"trials_from_change_point\",y=\"RT(ms)\",data=sess_low,col=\"Day\",col_wrap=3,kind='line',hue='block_change_type',palette='magma',lw=3.5,facet_kws={'sharey':True})\n",
    "for ax in g1.axes:\n",
    "    ax.set_ylim(400,3000)\n"
   ]
  },
  {
   "cell_type": "code",
   "execution_count": null,
   "id": "f32f8c37",
   "metadata": {},
   "outputs": [],
   "source": [
    "g1 = sns.relplot(x=\"trials_from_change_point\",y=\"RT(ms)\",data=sess_high,col=\"Day\",col_wrap=3,kind='line',hue='block_change_type',palette='magma',lw=3.5,facet_kws={'sharey':True})\n",
    "for ax in g1.axes:\n",
    "    ax.set_ylim(400,3000)\n"
   ]
  },
  {
   "cell_type": "code",
   "execution_count": null,
   "id": "a1eb1e32",
   "metadata": {},
   "outputs": [],
   "source": [
    "# sns.catplot(x=\"conflict\",y=\"RT(ms)\",data=sess,col=\"volatility\",order=[\"No\",\"Low\",\"High\"],kind='point',hue='condition')\n",
    "sns.catplot(x=\"conflict\",y=\"RT(ms)\",data=sess,order=[\"No\",\"Low\",\"High\"],kind='point',hue='block_change_type',col_order=[\"No\",\"Low\",\"High\"])"
   ]
  },
  {
   "cell_type": "code",
   "execution_count": null,
   "id": "a9a9181d",
   "metadata": {},
   "outputs": [],
   "source": [
    "# sns.relplot(x=\"trials_from_change_point\",y=\"error_rate\",data=sess,col=\"conflict + volatility\",col_wrap=3,kind='line',hue='session_group',palette='magma',col_order=col_order,lw=3.5,facet_kws={'sharey':True})\n",
    "g1 = sns.relplot(x=\"trials_from_change_point\",y=\"error_rate\",data=sess_no,col=\"Day\",col_wrap=3,kind='line',hue='block_change_type',palette='magma',lw=3.5,facet_kws={'sharey':True},hue_order=[\"left->right\",\"right->left\"])\n",
    "for ax in g1.axes:\n",
    "    ax.set_ylim(0,1.0)"
   ]
  },
  {
   "cell_type": "code",
   "execution_count": null,
   "id": "6b3abf3e",
   "metadata": {},
   "outputs": [],
   "source": [
    "g1 = sns.relplot(x=\"trials_from_change_point\",y=\"error_rate\",data=sess_low,col=\"Day\",col_wrap=3,kind='line',hue='block_change_type',palette='magma',lw=3.5,facet_kws={'sharey':True},hue_order=[\"left->right\",\"right->left\"])\n",
    "for ax in g1.axes:\n",
    "    ax.set_ylim(0,1.0)"
   ]
  },
  {
   "cell_type": "code",
   "execution_count": null,
   "id": "425e59a9",
   "metadata": {},
   "outputs": [],
   "source": [
    "g1 = sns.relplot(x=\"trials_from_change_point\",y=\"error_rate\",data=sess_high,col=\"Day\",col_wrap=3,kind='line',hue='block_change_type',palette='magma',lw=3.5,facet_kws={'sharey':True},hue_order=[\"left->right\",\"right->left\"])\n",
    "for ax in g1.axes:\n",
    "    ax.set_ylim(0,1.0)"
   ]
  },
  {
   "cell_type": "code",
   "execution_count": null,
   "id": "ee8a9810",
   "metadata": {},
   "outputs": [],
   "source": [
    "sns.pointplot(x=\"conflict\",y=\"optimal_action\",data=sess,order=[\"No\",\"Low\",\"High\"],hue=\"sg + bc_type\")"
   ]
  },
  {
   "cell_type": "code",
   "execution_count": null,
   "id": "8c6b3ed6",
   "metadata": {},
   "outputs": [],
   "source": [
    "temp = pd.DataFrame(all_conflicts.groupby([\"conflict\", \"volatility\",\"Day\",\"session\",\"block_num\",\"block\"])[\"RT(ms)\"].mean())"
   ]
  },
  {
   "cell_type": "code",
   "execution_count": null,
   "id": "8aac3bbb",
   "metadata": {},
   "outputs": [],
   "source": [
    "temp1 = pd.DataFrame(all_conflicts.groupby([\"conflict\", \"volatility\",\"Day\",\"session\",\"block_num\",\"block\"])[\"optimal_action\"].mean())"
   ]
  },
  {
   "cell_type": "code",
   "execution_count": null,
   "id": "e5d35f29",
   "metadata": {},
   "outputs": [],
   "source": [
    "temp1"
   ]
  },
  {
   "cell_type": "code",
   "execution_count": null,
   "id": "1dfdd447",
   "metadata": {},
   "outputs": [],
   "source": [
    "temp.index.get_level_values(0)\n"
   ]
  },
  {
   "cell_type": "code",
   "execution_count": null,
   "id": "417b36e5",
   "metadata": {},
   "outputs": [],
   "source": [
    "average_rt = pd.DataFrame()\n",
    "average_rt[\"conflict\"] = temp.index.get_level_values(0)\n",
    "average_rt[\"volatility\"] = temp.index.get_level_values(1)\n",
    "average_rt[\"day\"] = temp.index.get_level_values(2)\n",
    "average_rt[\"session\"] = temp.index.get_level_values(3)\n",
    "average_rt[\"block_num\"] = temp.index.get_level_values(4)\n",
    "average_rt[\"block\"] = temp.index.get_level_values(5)\n",
    "average_rt[\"RT(ms)\"] = temp[\"RT(ms)\"].values\n",
    "\n"
   ]
  },
  {
   "cell_type": "code",
   "execution_count": null,
   "id": "2f6b0e6e",
   "metadata": {},
   "outputs": [],
   "source": [
    "average_err = pd.DataFrame()\n",
    "average_err[\"conflict\"] = temp1.index.get_level_values(0)\n",
    "average_err[\"volatility\"] = temp1.index.get_level_values(1)\n",
    "average_err[\"day\"] = temp1.index.get_level_values(2)\n",
    "average_err[\"session\"] = temp1.index.get_level_values(3)\n",
    "average_err[\"block_num\"] = temp1.index.get_level_values(4)\n",
    "average_err[\"block\"] = temp1.index.get_level_values(5)\n",
    "average_err[\"error_rate\"] =  1- temp1[\"optimal_action\"].values\n"
   ]
  },
  {
   "cell_type": "code",
   "execution_count": null,
   "id": "f0751476",
   "metadata": {},
   "outputs": [],
   "source": [
    "average_rt_low = average_rt.loc[average_rt[\"volatility\"]==\"Low\"]\n",
    "average_rt_high = average_rt.loc[average_rt[\"volatility\"]==\"High\"]\n"
   ]
  },
  {
   "cell_type": "code",
   "execution_count": null,
   "id": "fd4f915a",
   "metadata": {},
   "outputs": [],
   "source": [
    "average_err_low = average_err.loc[average_err[\"volatility\"]==\"Low\"]\n",
    "average_err_high = average_err.loc[average_err[\"volatility\"]==\"High\"]\n"
   ]
  },
  {
   "cell_type": "code",
   "execution_count": null,
   "id": "f42dddaa",
   "metadata": {},
   "outputs": [],
   "source": [
    "# sns.relplot(x=\"block_num\",y=\"RT(ms)\",data=average_rt_low.loc[average_rt_low[\"session\"]<5],col=\"conflict\",hue=\"session\",kind='line',lw=3.5,col_order=[\"No\",\"Low\",\"High\"])"
   ]
  },
  {
   "cell_type": "code",
   "execution_count": null,
   "id": "5849f134",
   "metadata": {},
   "outputs": [],
   "source": [
    "g1 = sns.relplot(x=\"session\",y=\"RT(ms)\",data=average_rt_low,col=\"conflict\",kind='line',lw=3.5,col_order=[\"No\",\"Low\",\"High\"],hue=\"block\")\n",
    "g1.savefig(figure_dir+\"average_RT_sessions_low_volatility.png\")"
   ]
  },
  {
   "cell_type": "code",
   "execution_count": null,
   "id": "1e67b281",
   "metadata": {},
   "outputs": [],
   "source": [
    "g1 = sns.relplot(x=\"session\",y=\"RT(ms)\",data=average_rt_high,col=\"conflict\",kind='line',lw=3.5,col_order=[\"No\",\"Low\",\"High\"],hue=\"block\",facet_kws={'sharey':False})\n",
    "g1.savefig(figure_dir+\"average_RT_sessions_high_volatility.png\")"
   ]
  },
  {
   "cell_type": "code",
   "execution_count": null,
   "id": "dc61c403",
   "metadata": {},
   "outputs": [],
   "source": [
    "g1 = sns.relplot(x=\"session\",y=\"error_rate\",data=average_err_low,col=\"conflict\",kind='line',lw=3.5,col_order=[\"No\",\"Low\",\"High\"],hue='block')\n",
    "g1.savefig(figure_dir+\"error_rate_session_wise_low_volatility.png\")\n"
   ]
  },
  {
   "cell_type": "code",
   "execution_count": null,
   "id": "3ca3f864",
   "metadata": {},
   "outputs": [],
   "source": [
    "sns.relplot(x=\"session\",y=\"RT(ms)\",data=average_rt_high,col=\"conflict\",kind='line',lw=3.5,col_order=[\"No\",\"Low\",\"High\"],hue=\"block\",facet_kws={'sharey':False})"
   ]
  },
  {
   "cell_type": "code",
   "execution_count": null,
   "id": "1d4e9845",
   "metadata": {},
   "outputs": [],
   "source": [
    "sess0_4 = block_change_aligned_df.loc[(block_change_aligned_df[\"session\"]<5)&(block_change_aligned_df[\"volatility\"]==\"Low\")]\n",
    "sns.relplot(x=\"trials_from_change_point\",y=\"RT(ms)\",data=sess0_4,col=\"conflict\",col_wrap=3,kind='line',hue='sg + bc_type',palette='magma',lw=3.5,facet_kws={'sharey':True},col_order=[\"No\",\"Low\",\"High\"])"
   ]
  },
  {
   "cell_type": "code",
   "execution_count": null,
   "id": "c4a24863",
   "metadata": {},
   "outputs": [],
   "source": [
    "g1 = sns.relplot(x=\"trials_from_change_point\",y=\"error_rate\",data=sess0_4,col=\"conflict\",col_wrap=3,kind='line',hue='sg + bc_type',palette='magma',lw=3.5,facet_kws={'sharey':True},col_order=[\"No\",\"Low\",\"High\"])\n",
    "g1.savefig(figure_dir+\"error_rates_low_volatility.png\")"
   ]
  },
  {
   "cell_type": "code",
   "execution_count": null,
   "id": "b49457c6",
   "metadata": {},
   "outputs": [],
   "source": [
    "average_rt_low"
   ]
  },
  {
   "cell_type": "code",
   "execution_count": null,
   "id": "76e6e0ac",
   "metadata": {},
   "outputs": [],
   "source": [
    "average_err_low"
   ]
  },
  {
   "cell_type": "code",
   "execution_count": null,
   "id": "0f8c14de",
   "metadata": {},
   "outputs": [],
   "source": [
    "average_err_rt = average_err_low.merge(average_rt_low,on=[\"session\",\"block_num\",\"conflict\",\"block\",\"day\"])"
   ]
  },
  {
   "cell_type": "code",
   "execution_count": null,
   "id": "69669fd1",
   "metadata": {},
   "outputs": [],
   "source": [
    "average_err_rt"
   ]
  },
  {
   "cell_type": "code",
   "execution_count": null,
   "id": "ba780215",
   "metadata": {},
   "outputs": [],
   "source": [
    "sns.jointplot(x=\"RT(ms)\",y=\"error_rate\",data=average_err_rt.loc[average_err_rt[\"conflict\"]==\"No\"],hue=\"day\",kind='kde',alpha=0.5,palette='tab10')"
   ]
  },
  {
   "cell_type": "code",
   "execution_count": null,
   "id": "742667dd",
   "metadata": {},
   "outputs": [],
   "source": [
    "sns.jointplot(x=\"RT(ms)\",y=\"error_rate\",data=average_err_rt.loc[average_err_rt[\"conflict\"]==\"Low\"],hue=\"day\",kind='kde',alpha=0.5,palette='tab10')"
   ]
  },
  {
   "cell_type": "code",
   "execution_count": null,
   "id": "892300fb",
   "metadata": {},
   "outputs": [],
   "source": [
    "sns.jointplot(x=\"RT(ms)\",y=\"error_rate\",data=average_err_rt.loc[average_err_rt[\"conflict\"]==\"High\"],hue=\"day\",kind='kde',alpha=0.5,palette='tab10')"
   ]
  },
  {
   "cell_type": "code",
   "execution_count": null,
   "id": "a981b315",
   "metadata": {},
   "outputs": [],
   "source": [
    "sns.lmplot(x=\"RT(ms)\",y=\"error_rate\",data=average_err_rt.loc[(average_err_rt[\"conflict\"]==\"High\")&(average_err_rt[\"day\"]<2)],hue=\"day\")\n"
   ]
  },
  {
   "cell_type": "code",
   "execution_count": null,
   "id": "a2093915",
   "metadata": {},
   "outputs": [],
   "source": [
    "sns.lmplot(x=\"RT(ms)\",y=\"error_rate\",data=average_err_rt.loc[(average_err_rt[\"conflict\"]==\"Low\")&(average_err_rt[\"day\"]<2)],hue=\"day\")"
   ]
  },
  {
   "cell_type": "code",
   "execution_count": null,
   "id": "bbc5ff65",
   "metadata": {},
   "outputs": [],
   "source": [
    "sns.lmplot(x=\"RT(ms)\",y=\"error_rate\",data=average_err_rt.loc[(average_err_rt[\"conflict\"]==\"No\")&(average_err_rt[\"day\"]<2)],hue=\"day\")"
   ]
  },
  {
   "cell_type": "code",
   "execution_count": null,
   "id": "1a296bb8",
   "metadata": {},
   "outputs": [],
   "source": []
  }
 ],
 "metadata": {
  "kernelspec": {
   "display_name": "Python 3 (ipykernel)",
   "language": "python",
   "name": "python3"
  },
  "language_info": {
   "codemirror_mode": {
    "name": "ipython",
    "version": 3
   },
   "file_extension": ".py",
   "mimetype": "text/x-python",
   "name": "python",
   "nbconvert_exporter": "python",
   "pygments_lexer": "ipython3",
   "version": "3.8.12"
  }
 },
 "nbformat": 4,
 "nbformat_minor": 5
}
