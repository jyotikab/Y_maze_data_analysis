{
 "cells": [
  {
   "cell_type": "code",
   "execution_count": 29,
   "id": "49b57b64",
   "metadata": {},
   "outputs": [
    {
     "name": "stdout",
     "output_type": "stream",
     "text": [
      "/home/jyotika/2-arm-bandit-task\n"
     ]
    }
   ],
   "source": [
    "import pandas as pd\n",
    "import numpy as np\n",
    "import pylab as pl\n",
    "import scipy.io as sio\n",
    "import seaborn as sns\n",
    "import statsmodels.api as sm\n",
    "import funcs as func\n",
    "import sys\n",
    "import pdb\n",
    "import glob\n",
    "import matplotlib.pyplot as plt\n",
    "import os\n",
    "\n",
    "import warnings\n",
    "warnings.simplefilter(action='ignore', category=FutureWarning)\n",
    "\n",
    "cwd = os.getcwd()\n",
    "\n",
    "print(cwd)\n",
    "data_dir = cwd+\"/Data/Y_maze/data_with_animal_ids/\"\n",
    "data_target_dir = cwd+\"/Data/processed_data/Y_maze/data_with_animal_ids/\"\n",
    "figure_dir = cwd+\"/Figures/\"\n"
   ]
  },
  {
   "cell_type": "code",
   "execution_count": 30,
   "id": "254ec21e",
   "metadata": {},
   "outputs": [],
   "source": [
    "#experiment_type = \"NoConfLowVolDTs\"\n",
    "\n",
    "plt.rcParams[\"figure.facecolor\"] = \"w\""
   ]
  },
  {
   "cell_type": "code",
   "execution_count": 31,
   "id": "fde55895",
   "metadata": {},
   "outputs": [],
   "source": [
    "col_names = [\"time (ms)\",\"event_marker\",\"current_trial_num_in_block\",\"block\",\"low_rew_%\",\"high_rew_%\",\"low_trial_range(block)\",\"high_trial_range(block)\",\"block#\",\"rewarded_trial_count\",\"total_trial_count\",\"sig\",\"x_pos\",\"y_pos\",\"trip\",\"chnc\",\"current_hall\",\"previous_hall\",\"lick_rate_hall1\",\"lick_rate_hall2\",\"lick_rate_hall3\",\"wtr\",\"mouse_distance\",\"TTL\"]\n",
    "\n",
    "non_action_em = [0,11,12,9,10]\n",
    "left_action_em = [1,2,3,4]\n",
    "right_action_em = [5,6,7,8]\n",
    "rewarded_em = [1,3,5,7]\n",
    "unrewarded_em = [2,4,6,8]"
   ]
  },
  {
   "cell_type": "code",
   "execution_count": 8,
   "id": "6b7cd1e8",
   "metadata": {},
   "outputs": [],
   "source": [
    "def read_raw_data(mat,ids):\n",
    "    # block, 0 = left, 1 = right\n",
    "    #columns = [\"time (ms)\", \"event_markers\", \"current_trial_num_in_block\",\"block\",\"reward_probability\",\"conflict\",\"volatility\",\"block_num\",\"rewarded\",\"action_chosen\",\"condition\"]\n",
    "    r,c = np.shape(mat[0])\n",
    "    raw_df = pd.DataFrame(columns = list(np.arange(0,c,1))+[\"session\"])\n",
    "    ids1 = np.hstack(ids)[0]\n",
    "    print(ids1)\n",
    "    for i in np.arange(len(mat)):\n",
    "        temp = pd.DataFrame(mat[i])\n",
    "        temp[\"session\"] = i\n",
    "        temp[\"animal_id\"] = ids1[i]\n",
    "        raw_df = raw_df.append(temp)\n",
    "\n",
    "    return raw_df\n",
    "\n",
    "\n",
    "\n",
    "def process_raw(raw,experiment_type):\n",
    "    processed_df = pd.DataFrame(columns=[\"conflict\",\"condition\",\"volatility\",\"event_marker\",\"block\",\"reward_probability\",\"trial_length_range\",\"session\",\"block_num\",\"trial_num\",\"chosen_action\",\"rewarded\",\"animal_id\",\"chnc\"])\n",
    "    conf = experiment_type.split('Conf')[0]\n",
    "    cond = experiment_type.split('Vol')[1]\n",
    "    #cond = \"Control\" # change when stim data is here !!!!!!\n",
    "    vol = experiment_type.split('Vol')[0].split('Conf')[1]\n",
    "    print(conf,cond,vol)\n",
    "    for grp in raw.groupby([\"session\",\"block#\",\"current_trial_num_in_block\",\"animal_id\"]):\n",
    "#         print(grp[0])\n",
    "        temp = dict()\n",
    "        temp[\"session\"] = grp[0][0]\n",
    "        temp[\"animal_id\"] = int(grp[0][3])\n",
    "        if temp[\"animal_id\"]%2 == 0 and cond == \"Stim\": # even animal id\n",
    "            cond1 = \"dSPN-Stim\"\n",
    "        elif temp[\"animal_id\"]%2 != 0 and cond == \"Stim\": # odd animal id\n",
    "            cond1 = \"iSPN-Stim\"\n",
    "        elif temp[\"animal_id\"]%2 == 0 and cond == \"Control\": # even animal id\n",
    "            cond1 = \"dSPN-Control\"\n",
    "        elif temp[\"animal_id\"]%2 != 0 and cond == \"Control\": # odd animal id\n",
    "            cond1 = \"iSPN-Control\"\n",
    "#         else:\n",
    "#             cond1 = cond\n",
    "        temp[\"conflict\"] = conf\n",
    "        temp[\"volatility\"] = vol\n",
    "        temp[\"condition\"] = cond1\n",
    "        temp[\"block_num\"] = grp[0][1]\n",
    "        temp[\"trial_num\"] = grp[0][2]\n",
    "#         time_before_iti = grp[1].loc[grp[1][\"event_marker\"]!=12]\n",
    "#         temp[\"RT(ms)\"] = np.max(time_before_iti[\"time (ms)\"]) - np.min(time_before_iti[\"time (ms)\"])\n",
    "        action_em = list(set(np.unique(grp[1][\"event_marker\"]))-set(non_action_em))\n",
    "        #print(action_em)\n",
    "        if len(action_em) == 1:\n",
    "            ind_action_em = np.where(grp[1][\"event_marker\"]==action_em[0])[0]\n",
    "            uniq_chnc = np.unique(grp[1].iloc[ind_action_em][\"chnc\"])\n",
    "            if len(uniq_chnc) > 1:\n",
    "                nz = np.where(uniq_chnc!=0)\n",
    "                uniq_chnc = uniq_chnc[nz]\n",
    "            #print(ind_action_em)\n",
    "            else:\n",
    "                uniq_chnc \n",
    "            \n",
    "            temp[\"chnc\"] = uniq_chnc\n",
    "            \n",
    "            #print(temp[\"chnc\"])\n",
    "        #print(action_em)       \n",
    "        if len(action_em) == 1:\n",
    "            temp[\"event_marker\"] = action_em[0]\n",
    "            if action_em[0] in left_action_em:\n",
    "                temp[\"chosen_action\"] = \"left\"\n",
    "            elif action_em[0] in right_action_em:\n",
    "                temp[\"chosen_action\"] = \"right\"\n",
    "            if action_em[0] in rewarded_em:\n",
    "                temp[\"rewarded\"] = \"rewarded\"\n",
    "            elif action_em[0] in unrewarded_em:\n",
    "                temp[\"rewarded\"] = \"unrewarded\"\n",
    "        else:\n",
    "            #print(\"no action ems\",np.unique(grp[1][\"event_marker\"]))\n",
    "            #print(grp[0])\n",
    "            temp[\"event_marker\"] = np.nan\n",
    "            temp[\"reward_probability\"] = np.nan\n",
    "            temp[\"chosen_action\"] = np.nan\n",
    "            temp[\"rewarded\"] = np.nan\n",
    "\n",
    "        temp[\"block\"] = \"left\" if np.unique(grp[1][\"block\"])[0] == 0 else \"right\"\n",
    "        temp[\"trial_length_range\"] = str(np.unique(grp[1][\"low_trial_range(block)\"])[0])+\"-\"+str(np.unique(grp[1][\"high_trial_range(block)\"])[0])\n",
    "\n",
    "        temp[\"reward_probability\"] = str(np.unique(grp[1][\"low_rew_%\"])[0])+\"-\"+str(np.unique(grp[1][\"high_rew_%\"])[0])\n",
    "        temp[\"optimal_action\"] = 1 if temp[\"block\"] == temp[\"chosen_action\"] else 0\n",
    "        \n",
    "        processed_df = processed_df.append(temp,ignore_index=True)\n",
    "\n",
    "    return processed_df\n",
    "\n"
   ]
  },
  {
   "cell_type": "code",
   "execution_count": 9,
   "id": "7230d501",
   "metadata": {},
   "outputs": [],
   "source": [
    "# exp_files = glob.glob(data_dir+\"*.mat\")\n",
    "# print(exp_files)\n",
    "# for ef in exp_files:\n",
    "#     print(ef)\n",
    "#     exp_type = ef.split('/')[-1].split('.')[0]\n",
    "#     exp_mat = sio.loadmat(ef)\n"
   ]
  },
  {
   "cell_type": "code",
   "execution_count": 10,
   "id": "1fca4cba",
   "metadata": {},
   "outputs": [],
   "source": [
    "# ef = '/home/jyotika/2-arm-bandit-task/Data/Y_maze/data_with_animal_ids/NoConfHighVolStim_withDTs.mat'\n",
    "# exp_type = ef.split('/')[-1].split('.')[0].split('_')[0]\n",
    "# print(exp_type)\n",
    "# exp_mat = sio.loadmat(ef)\n",
    "# raw_df = read_raw_data(exp_mat['overlap'][0],exp_mat['overlap'][2])\n"
   ]
  },
  {
   "cell_type": "code",
   "execution_count": 11,
   "id": "6aba2c26",
   "metadata": {},
   "outputs": [],
   "source": [
    "#     raw_df = raw_df.rename(columns={i:cn for i,cn in zip(np.arange(len(col_names)),col_names)})\n",
    "#     processed_df = process_raw(raw_df,exp_type)\n"
   ]
  },
  {
   "cell_type": "code",
   "execution_count": null,
   "id": "2aa43471",
   "metadata": {},
   "outputs": [],
   "source": []
  },
  {
   "cell_type": "code",
   "execution_count": 12,
   "id": "bd582c6f",
   "metadata": {},
   "outputs": [
    {
     "name": "stdout",
     "output_type": "stream",
     "text": [
      "['/home/jyotika/2-arm-bandit-task/Data/Y_maze/data_with_animal_ids/LowConfHighVolControl_withDTs.mat', '/home/jyotika/2-arm-bandit-task/Data/Y_maze/data_with_animal_ids/NoConfHighVolStim_withDTs.mat', '/home/jyotika/2-arm-bandit-task/Data/Y_maze/data_with_animal_ids/LowConfHighVolStim_withDTs.mat', '/home/jyotika/2-arm-bandit-task/Data/Y_maze/data_with_animal_ids/LowConfLowVolControl_withDTs.mat', '/home/jyotika/2-arm-bandit-task/Data/Y_maze/data_with_animal_ids/NoConfHighVolControl_withDTs.mat', '/home/jyotika/2-arm-bandit-task/Data/Y_maze/data_with_animal_ids/HighConfLowVolStim_withDTs.mat', '/home/jyotika/2-arm-bandit-task/Data/Y_maze/data_with_animal_ids/LowConfLowVolStim_withDTs.mat', '/home/jyotika/2-arm-bandit-task/Data/Y_maze/data_with_animal_ids/HighConfHighVolStim_withDTs.mat', '/home/jyotika/2-arm-bandit-task/Data/Y_maze/data_with_animal_ids/NoConfLowVolControl_withDTs.mat', '/home/jyotika/2-arm-bandit-task/Data/Y_maze/data_with_animal_ids/NoConfLowVolStim_withDTs.mat', '/home/jyotika/2-arm-bandit-task/Data/Y_maze/data_with_animal_ids/HighConfLowVolControl_withDTs.mat', '/home/jyotika/2-arm-bandit-task/Data/Y_maze/data_with_animal_ids/HighConfHighVolControl_withDTs.mat']\n",
      "/home/jyotika/2-arm-bandit-task/Data/Y_maze/data_with_animal_ids/LowConfHighVolControl_withDTs.mat\n",
      "LowConfHighVolControl\n",
      "[ 1  1  1  1  1  1 10 10 10 10 10  5  5  5  5  5  5  7  7  7  7  7  9  9\n",
      "  9  9  9  2  2  2  2  2  4  4  4  4  4  6  6  6  6  6  8  8  8  8  8]\n",
      "Low Control High\n",
      "[ 1  1  1  1  1  1 10 10 10 10 10  5  5  5  5  5  5  7  7  7  7  7  9  9\n",
      "  9  9  9  2  2  2  2  2  4  4  4  4  4  6  6  6  6  6  8  8  8  8  8]\n",
      "/home/jyotika/2-arm-bandit-task/Data/Y_maze/data_with_animal_ids/NoConfHighVolStim_withDTs.mat\n",
      "NoConfHighVolStim\n",
      "[1 1 1 1 1 5 5 5 5 5 7 9 9 2 2 2 2 2 4 6 7 7 9 9 4 4 4 6 6 6]\n",
      "No Stim High\n",
      "[1 1 1 1 1 5 5 5 5 5 7 9 9 2 2 2 2 2 4 6 7 7 9 9 4 4 4 6 6 6]\n",
      "/home/jyotika/2-arm-bandit-task/Data/Y_maze/data_with_animal_ids/LowConfHighVolStim_withDTs.mat\n",
      "LowConfHighVolStim\n",
      "[1 1 1 1 5 5 5 5 5 7 7 9 9 9 2 4 4 4 7 7 7 9 9 2 2 2 2 4 4 6]\n",
      "Low Stim High\n",
      "[1 1 1 1 5 5 5 5 5 7 7 9 9 9 2 4 4 4 7 7 7 9 9 2 2 2 2 4 4 6]\n",
      "/home/jyotika/2-arm-bandit-task/Data/Y_maze/data_with_animal_ids/LowConfLowVolControl_withDTs.mat\n",
      "LowConfLowVolControl\n",
      "[ 1  1  1  1  1  1  1 10 10 10 10 10  5  5  5  5  5  5  5  7  7  7  7  7\n",
      "  7  7  9  9  9  9  9  9  2  2  2  2  2  2  4  4  4  4  4  6  6  6  6  6\n",
      "  8  8  8  8  8]\n",
      "Low Control Low\n",
      "[ 1  1  1  1  1  1  1 10 10 10 10 10  5  5  5  5  5  5  5  7  7  7  7  7\n",
      "  7  7  9  9  9  9  9  9  2  2  2  2  2  2  4  4  4  4  4  6  6  6  6  6\n",
      "  8  8  8  8  8]\n",
      "/home/jyotika/2-arm-bandit-task/Data/Y_maze/data_with_animal_ids/NoConfHighVolControl_withDTs.mat\n",
      "NoConfHighVolControl\n",
      "[ 1  1  1  1  1  1 10 10 10 10 10  5  5  5  5  5  5  7  7  7  7  7  9  9\n",
      "  9  9  9  2  2  2  2  2  4  4  4  4  4  6  6  6  6  6  8  8  8  8  8]\n",
      "No Control High\n",
      "[ 1  1  1  1  1  1 10 10 10 10 10  5  5  5  5  5  5  7  7  7  7  7  9  9\n",
      "  9  9  9  2  2  2  2  2  4  4  4  4  4  6  6  6  6  6  8  8  8  8  8]\n",
      "/home/jyotika/2-arm-bandit-task/Data/Y_maze/data_with_animal_ids/HighConfLowVolStim_withDTs.mat\n",
      "HighConfLowVolStim\n",
      "[ 1  1  1  1  1 10  5  5  5  5  5  7  7  7  7  7  9  9  9  9  9  2  2  2\n",
      "  2  2  4  4  4  4  4  6  6  6  6  6  8  8  8]\n",
      "High Stim Low\n",
      "[ 1  1  1  1  1 10  5  5  5  5  5  7  7  7  7  7  9  9  9  9  9  2  2  2\n",
      "  2  2  4  4  4  4  4  6  6  6  6  6  8  8  8]\n",
      "/home/jyotika/2-arm-bandit-task/Data/Y_maze/data_with_animal_ids/LowConfLowVolStim_withDTs.mat\n",
      "LowConfLowVolStim\n",
      "[ 1  1  1  1  1 10 10  5  5  5  5  5  7  7  7  7  7  9  9  9  9  9  2  2\n",
      "  2  2  2  4  4  4  4  4  6  6  6  6  6  8]\n",
      "Low Stim Low\n",
      "[ 1  1  1  1  1 10 10  5  5  5  5  5  7  7  7  7  7  9  9  9  9  9  2  2\n",
      "  2  2  2  4  4  4  4  4  6  6  6  6  6  8]\n",
      "/home/jyotika/2-arm-bandit-task/Data/Y_maze/data_with_animal_ids/HighConfHighVolStim_withDTs.mat\n",
      "HighConfHighVolStim\n",
      "[1 1 1 1 5 5 5 5 5 7 9 9 2 2 4 4 7 9 2 2 2 4 4 4 6 6 6 6]\n",
      "High Stim High\n",
      "[1 1 1 1 5 5 5 5 5 7 9 9 2 2 4 4 7 9 2 2 2 4 4 4 6 6 6 6]\n",
      "/home/jyotika/2-arm-bandit-task/Data/Y_maze/data_with_animal_ids/NoConfLowVolControl_withDTs.mat\n",
      "NoConfLowVolControl\n",
      "[ 1  1  1  1  1  1  1 10 10 10 10 10  5  5  5  5  5  5  5  5  7  7  7  7\n",
      "  7  7  7  9  9  9  9  9  9  2  2  2  2  2  4  4  4  4  4  6  6  6  6  6\n",
      "  8  8  8  8  8]\n",
      "No Control Low\n",
      "[ 1  1  1  1  1  1  1 10 10 10 10 10  5  5  5  5  5  5  5  5  7  7  7  7\n",
      "  7  7  7  9  9  9  9  9  9  2  2  2  2  2  4  4  4  4  4  6  6  6  6  6\n",
      "  8  8  8  8  8]\n",
      "/home/jyotika/2-arm-bandit-task/Data/Y_maze/data_with_animal_ids/NoConfLowVolStim_withDTs.mat\n",
      "NoConfLowVolStim\n",
      "[ 1  1  1  1  1 10  5  5  5  5  5  7  7  7  7  7  9  9  9  9  9  2  2  2\n",
      "  2  2  4  4  4  4  4  6  6  6  6  6  8  8]\n",
      "No Stim Low\n",
      "[ 1  1  1  1  1 10  5  5  5  5  5  7  7  7  7  7  9  9  9  9  9  2  2  2\n",
      "  2  2  4  4  4  4  4  6  6  6  6  6  8  8]\n",
      "/home/jyotika/2-arm-bandit-task/Data/Y_maze/data_with_animal_ids/HighConfLowVolControl_withDTs.mat\n",
      "HighConfLowVolControl\n",
      "[ 1  1  1  1  1  1  1 10 10 10 10 10  5  5  5  5  5  5  5  7  7  7  7  7\n",
      "  7  9  9  9  9  9  9  2  2  2  2  2  4  4  4  4  4  6  6  6  6  6  8  8\n",
      "  8  8  8]\n",
      "High Control Low\n",
      "[ 1  1  1  1  1  1  1 10 10 10 10 10  5  5  5  5  5  5  5  7  7  7  7  7\n",
      "  7  9  9  9  9  9  9  2  2  2  2  2  4  4  4  4  4  6  6  6  6  6  8  8\n",
      "  8  8  8]\n",
      "/home/jyotika/2-arm-bandit-task/Data/Y_maze/data_with_animal_ids/HighConfHighVolControl_withDTs.mat\n",
      "HighConfHighVolControl\n",
      "[ 1  1  1  1  1 10 10 10 10 10  5  5  5  5  5  7  7  7  7  7  9  9  9  9\n",
      "  9  2  2  2  2  2  4  4  4  4  4  6  6  6  6  6  8  8  8  8  8]\n",
      "High Control High\n",
      "[ 1  1  1  1  1 10 10 10 10 10  5  5  5  5  5  7  7  7  7  7  9  9  9  9\n",
      "  9  2  2  2  2  2  4  4  4  4  4  6  6  6  6  6  8  8  8  8  8]\n"
     ]
    }
   ],
   "source": [
    "\n",
    "all_conflicts = pd.DataFrame()\n",
    "just_rts = pd.DataFrame()\n",
    "exp_files = glob.glob(data_dir+\"*.mat\")\n",
    "print(exp_files)\n",
    "for ef in exp_files:\n",
    "    print(ef)\n",
    "    exp_type = ef.split('/')[-1].split('.')[0].split('_')[0]\n",
    "    print(exp_type)\n",
    "    exp_mat = sio.loadmat(ef)\n",
    "    raw_df = read_raw_data(exp_mat['overlap'][0],exp_mat['overlap'][2])\n",
    "    # Replace the column numbers with the labels that Julia gave\n",
    "    raw_df = raw_df.rename(columns={i:cn for i,cn in zip(np.arange(len(col_names)),col_names)})\n",
    "    processed_df = process_raw(raw_df,exp_type)\n",
    "    processed_df = processed_df.dropna()\n",
    "    processed_df = processed_df.reset_index()\n",
    "    processed_df[\"index\"] = processed_df.index\n",
    "\n",
    "    \n",
    "    rt_df = read_raw_data(exp_mat['overlap'][1],exp_mat['overlap'][2])\n",
    "    rt_df = rt_df.rename(columns ={0:\"RT(ms)\"})\n",
    "    rt_df = rt_df.reset_index()\n",
    "    rt_df[\"index\"] = rt_df.index\n",
    "    \n",
    "    final_df = pd.DataFrame()\n",
    "    for grp1,grp2 in zip(processed_df.groupby([\"animal_id\"]), rt_df.groupby([\"animal_id\"])):\n",
    "        grp1[1][\"revised_session_id\"] = list(grp1[1][\"session\"] - np.min(grp1[1][\"session\"]))\n",
    "        grp2[1][\"revised_session_id\"] = list(grp2[1][\"session\"] - np.min(grp2[1][\"session\"]))\n",
    "        \n",
    "        temp = grp1[1].merge(grp2[1],on=[\"session\",\"animal_id\",\"index\"])\n",
    "        final_df = final_df.append(temp)\n",
    "    \n",
    "#     final_df = processed_df.merge(rt_df,on=[\"session\",\"animal_id\",\"index\"])\n",
    "    final_df.to_csv(data_target_dir+exp_type+\"_processed.csv\")\n",
    "    \n",
    "#     rt_df[\"exp_type\"] = exp_type\n",
    "#     just_rts = just_rts.append(rt_df)\n",
    "    all_conflicts = all_conflicts.append(final_df)\n",
    "    \n",
    "all_conflicts = all_conflicts.reset_index()    "
   ]
  },
  {
   "cell_type": "code",
   "execution_count": 13,
   "id": "b51d203e",
   "metadata": {},
   "outputs": [],
   "source": [
    "# exp_mat = sio.loadmat(\"/home/jyotika/2-arm-bandit-task/Data/Y_maze/data_with_animal_ids/NoConfHighVolControl_withDTs.mat\")\n",
    "# mat = exp_mat['overlap'][0]\n",
    "# ids = exp_mat['overlap'][2]\n",
    "# r,c = np.shape(mat[0])\n",
    "# raw_df = pd.DataFrame(columns = list(np.arange(0,c,1))+[\"session\"])\n",
    "# ids1 = np.hstack(ids)[0]\n",
    "# print(ids1)\n"
   ]
  },
  {
   "cell_type": "code",
   "execution_count": 14,
   "id": "5c322294",
   "metadata": {},
   "outputs": [],
   "source": [
    "# raw_df = read_raw_data(exp_mat['overlap'][0],exp_mat['overlap'][2])"
   ]
  },
  {
   "cell_type": "code",
   "execution_count": 15,
   "id": "1ba16d46",
   "metadata": {},
   "outputs": [],
   "source": [
    "# raw_df = raw_df.rename(columns={i:cn for i,cn in zip(np.arange(len(col_names)),col_names)})"
   ]
  },
  {
   "cell_type": "code",
   "execution_count": null,
   "id": "f39b49f9",
   "metadata": {},
   "outputs": [],
   "source": []
  },
  {
   "cell_type": "code",
   "execution_count": 16,
   "id": "03d85139",
   "metadata": {},
   "outputs": [],
   "source": [
    "# test = grp[1][(grp[1][\"session\"]==44)&(grp[1][\"block#\"]==19)&(grp[1][\"current_trial_num_in_block\"]==17)&(grp[1][\"animal_id\"]==8.0)]"
   ]
  },
  {
   "cell_type": "code",
   "execution_count": 17,
   "id": "2f93da45",
   "metadata": {},
   "outputs": [],
   "source": [
    "# test"
   ]
  },
  {
   "cell_type": "code",
   "execution_count": 18,
   "id": "54190f80",
   "metadata": {},
   "outputs": [],
   "source": [
    "# grp[1].loc[grp[1][\"event_marker\"].isin(left_action_em+right_action_em)][[\"event_marker\",\"chnc\"]]"
   ]
  },
  {
   "cell_type": "code",
   "execution_count": 19,
   "id": "bb680e29",
   "metadata": {},
   "outputs": [],
   "source": [
    "# np.unique(test[\"event_marker\"])"
   ]
  },
  {
   "cell_type": "code",
   "execution_count": 20,
   "id": "8712b8d1",
   "metadata": {},
   "outputs": [],
   "source": [
    "# sio.savemat(\"/home/jyotika/2-arm-bandit-task/Data/Y_maze/data_with_animal_ids/NoConfHighVolControl_withDTs.mat\",exp_mat)"
   ]
  },
  {
   "cell_type": "code",
   "execution_count": 28,
   "id": "679f71f2",
   "metadata": {},
   "outputs": [],
   "source": [
    "all_conflicts[\"rewarded_code\"] = [ 1 if x == \"rewarded\" else 0 for x in all_conflicts[\"rewarded\"]]\n",
    "all_conflicts[\"animal_id\"] = [ 10.0 if x == 3.0 or x == 3 else x for x in all_conflicts[\"animal_id\"] ]\n",
    "all_conflicts[\"chnc\"] =  all_conflicts[\"chnc\"].astype(int)\n",
    "all_conflicts[\"conflict + volatility\"] = all_conflicts[\"conflict\"]+\" - \"+all_conflicts[\"volatility\"]\n",
    "all_conflicts.to_csv(data_target_dir+\"all_experiments_df_with_DTs.csv\")\n"
   ]
  },
  {
   "cell_type": "code",
   "execution_count": 32,
   "id": "4ac1e7e0",
   "metadata": {},
   "outputs": [],
   "source": [
    "all_conflicts = pd.read_csv(data_target_dir+\"all_experiments_df_with_DTs.csv\")\n",
    "\n",
    "# final_df[\"rewarded_code\"] = [ 1 if x == \"rewarded\" else 0 for x in final_df[\"rewarded\"]]"
   ]
  },
  {
   "cell_type": "code",
   "execution_count": 33,
   "id": "68912710",
   "metadata": {},
   "outputs": [
    {
     "ename": "ValueError",
     "evalue": "Could not interpret input 'ideal_B'",
     "output_type": "error",
     "traceback": [
      "\u001b[0;31m---------------------------------------------------------------------------\u001b[0m",
      "\u001b[0;31mValueError\u001b[0m                                Traceback (most recent call last)",
      "\u001b[0;32m/tmp/ipykernel_122750/3476411416.py\u001b[0m in \u001b[0;36m<module>\u001b[0;34m\u001b[0m\n\u001b[0;32m----> 1\u001b[0;31m \u001b[0msns\u001b[0m\u001b[0;34m.\u001b[0m\u001b[0mcatplot\u001b[0m\u001b[0;34m(\u001b[0m\u001b[0mx\u001b[0m\u001b[0;34m=\u001b[0m\u001b[0;34m\"conflict\"\u001b[0m\u001b[0;34m,\u001b[0m\u001b[0my\u001b[0m\u001b[0;34m=\u001b[0m\u001b[0;34m\"ideal_B\"\u001b[0m\u001b[0;34m,\u001b[0m\u001b[0mhue\u001b[0m\u001b[0;34m=\u001b[0m\u001b[0;34m\"condition\"\u001b[0m\u001b[0;34m,\u001b[0m\u001b[0mdata\u001b[0m\u001b[0;34m=\u001b[0m\u001b[0mall_conflicts\u001b[0m\u001b[0;34m,\u001b[0m\u001b[0mkind\u001b[0m\u001b[0;34m=\u001b[0m\u001b[0;34m'point'\u001b[0m\u001b[0;34m)\u001b[0m\u001b[0;34m\u001b[0m\u001b[0;34m\u001b[0m\u001b[0m\n\u001b[0m",
      "\u001b[0;32m~/.local/lib/python3.8/site-packages/seaborn/_decorators.py\u001b[0m in \u001b[0;36minner_f\u001b[0;34m(*args, **kwargs)\u001b[0m\n\u001b[1;32m     44\u001b[0m             )\n\u001b[1;32m     45\u001b[0m         \u001b[0mkwargs\u001b[0m\u001b[0;34m.\u001b[0m\u001b[0mupdate\u001b[0m\u001b[0;34m(\u001b[0m\u001b[0;34m{\u001b[0m\u001b[0mk\u001b[0m\u001b[0;34m:\u001b[0m \u001b[0marg\u001b[0m \u001b[0;32mfor\u001b[0m \u001b[0mk\u001b[0m\u001b[0;34m,\u001b[0m \u001b[0marg\u001b[0m \u001b[0;32min\u001b[0m \u001b[0mzip\u001b[0m\u001b[0;34m(\u001b[0m\u001b[0msig\u001b[0m\u001b[0;34m.\u001b[0m\u001b[0mparameters\u001b[0m\u001b[0;34m,\u001b[0m \u001b[0margs\u001b[0m\u001b[0;34m)\u001b[0m\u001b[0;34m}\u001b[0m\u001b[0;34m)\u001b[0m\u001b[0;34m\u001b[0m\u001b[0;34m\u001b[0m\u001b[0m\n\u001b[0;32m---> 46\u001b[0;31m         \u001b[0;32mreturn\u001b[0m \u001b[0mf\u001b[0m\u001b[0;34m(\u001b[0m\u001b[0;34m**\u001b[0m\u001b[0mkwargs\u001b[0m\u001b[0;34m)\u001b[0m\u001b[0;34m\u001b[0m\u001b[0;34m\u001b[0m\u001b[0m\n\u001b[0m\u001b[1;32m     47\u001b[0m     \u001b[0;32mreturn\u001b[0m \u001b[0minner_f\u001b[0m\u001b[0;34m\u001b[0m\u001b[0;34m\u001b[0m\u001b[0m\n\u001b[1;32m     48\u001b[0m \u001b[0;34m\u001b[0m\u001b[0m\n",
      "\u001b[0;32m~/.local/lib/python3.8/site-packages/seaborn/categorical.py\u001b[0m in \u001b[0;36mcatplot\u001b[0;34m(x, y, hue, data, row, col, col_wrap, estimator, ci, n_boot, units, seed, order, hue_order, row_order, col_order, kind, height, aspect, orient, color, palette, legend, legend_out, sharex, sharey, margin_titles, facet_kws, **kwargs)\u001b[0m\n\u001b[1;32m   3790\u001b[0m     \u001b[0mp\u001b[0m \u001b[0;34m=\u001b[0m \u001b[0m_CategoricalPlotter\u001b[0m\u001b[0;34m(\u001b[0m\u001b[0;34m)\u001b[0m\u001b[0;34m\u001b[0m\u001b[0;34m\u001b[0m\u001b[0m\n\u001b[1;32m   3791\u001b[0m     \u001b[0mp\u001b[0m\u001b[0;34m.\u001b[0m\u001b[0mrequire_numeric\u001b[0m \u001b[0;34m=\u001b[0m \u001b[0mplotter_class\u001b[0m\u001b[0;34m.\u001b[0m\u001b[0mrequire_numeric\u001b[0m\u001b[0;34m\u001b[0m\u001b[0;34m\u001b[0m\u001b[0m\n\u001b[0;32m-> 3792\u001b[0;31m     \u001b[0mp\u001b[0m\u001b[0;34m.\u001b[0m\u001b[0mestablish_variables\u001b[0m\u001b[0;34m(\u001b[0m\u001b[0mx_\u001b[0m\u001b[0;34m,\u001b[0m \u001b[0my_\u001b[0m\u001b[0;34m,\u001b[0m \u001b[0mhue\u001b[0m\u001b[0;34m,\u001b[0m \u001b[0mdata\u001b[0m\u001b[0;34m,\u001b[0m \u001b[0morient\u001b[0m\u001b[0;34m,\u001b[0m \u001b[0morder\u001b[0m\u001b[0;34m,\u001b[0m \u001b[0mhue_order\u001b[0m\u001b[0;34m)\u001b[0m\u001b[0;34m\u001b[0m\u001b[0;34m\u001b[0m\u001b[0m\n\u001b[0m\u001b[1;32m   3793\u001b[0m     if (\n\u001b[1;32m   3794\u001b[0m         \u001b[0morder\u001b[0m \u001b[0;32mis\u001b[0m \u001b[0;32mnot\u001b[0m \u001b[0;32mNone\u001b[0m\u001b[0;34m\u001b[0m\u001b[0;34m\u001b[0m\u001b[0m\n",
      "\u001b[0;32m~/.local/lib/python3.8/site-packages/seaborn/categorical.py\u001b[0m in \u001b[0;36mestablish_variables\u001b[0;34m(self, x, y, hue, data, orient, order, hue_order, units)\u001b[0m\n\u001b[1;32m    151\u001b[0m                 \u001b[0;32mif\u001b[0m \u001b[0misinstance\u001b[0m\u001b[0;34m(\u001b[0m\u001b[0mvar\u001b[0m\u001b[0;34m,\u001b[0m \u001b[0mstr\u001b[0m\u001b[0;34m)\u001b[0m\u001b[0;34m:\u001b[0m\u001b[0;34m\u001b[0m\u001b[0;34m\u001b[0m\u001b[0m\n\u001b[1;32m    152\u001b[0m                     \u001b[0merr\u001b[0m \u001b[0;34m=\u001b[0m \u001b[0;34m\"Could not interpret input '{}'\"\u001b[0m\u001b[0;34m.\u001b[0m\u001b[0mformat\u001b[0m\u001b[0;34m(\u001b[0m\u001b[0mvar\u001b[0m\u001b[0;34m)\u001b[0m\u001b[0;34m\u001b[0m\u001b[0;34m\u001b[0m\u001b[0m\n\u001b[0;32m--> 153\u001b[0;31m                     \u001b[0;32mraise\u001b[0m \u001b[0mValueError\u001b[0m\u001b[0;34m(\u001b[0m\u001b[0merr\u001b[0m\u001b[0;34m)\u001b[0m\u001b[0;34m\u001b[0m\u001b[0;34m\u001b[0m\u001b[0m\n\u001b[0m\u001b[1;32m    154\u001b[0m \u001b[0;34m\u001b[0m\u001b[0m\n\u001b[1;32m    155\u001b[0m             \u001b[0;31m# Figure out the plotting orientation\u001b[0m\u001b[0;34m\u001b[0m\u001b[0;34m\u001b[0m\u001b[0;34m\u001b[0m\u001b[0m\n",
      "\u001b[0;31mValueError\u001b[0m: Could not interpret input 'ideal_B'"
     ]
    }
   ],
   "source": [
    "sns.catplot(x=\"conflict\",y=\"ideal_B\",hue=\"condition\",data=all_conflicts,kind='point')"
   ]
  },
  {
   "cell_type": "code",
   "execution_count": 38,
   "id": "296ff075",
   "metadata": {},
   "outputs": [
    {
     "data": {
      "text/plain": [
       "array(['dSPN-Control', 'dSPN-Stim', 'iSPN-Control', 'iSPN-Stim'],\n",
       "      dtype=object)"
      ]
     },
     "execution_count": 38,
     "metadata": {},
     "output_type": "execute_result"
    }
   ],
   "source": [
    "np.unique(all_conflicts[\"condition\"])"
   ]
  },
  {
   "cell_type": "code",
   "execution_count": 39,
   "id": "a3dc691c",
   "metadata": {},
   "outputs": [],
   "source": [
    "# Replace #3 to #10 - note by Julia\n",
    "final_df[\"animal_id\"] = [ 10.0 if x == 3.0 else x for x in final_df[\"animal_id\"] ]"
   ]
  },
  {
   "cell_type": "code",
   "execution_count": 40,
   "id": "c5b95f4d",
   "metadata": {},
   "outputs": [
    {
     "data": {
      "text/plain": [
       "array([ 1,  2,  4,  5,  6,  7,  8,  9, 10])"
      ]
     },
     "execution_count": 40,
     "metadata": {},
     "output_type": "execute_result"
    }
   ],
   "source": [
    "np.unique(final_df[\"animal_id\"])"
   ]
  },
  {
   "cell_type": "code",
   "execution_count": 50,
   "id": "1de91e0f",
   "metadata": {},
   "outputs": [
    {
     "data": {
      "text/plain": [
       "pandas.core.series.Series"
      ]
     },
     "execution_count": 50,
     "metadata": {},
     "output_type": "execute_result"
    }
   ],
   "source": [
    "type(all_conflicts[\"chnc\"])"
   ]
  },
  {
   "cell_type": "code",
   "execution_count": 42,
   "id": "c74e88ec",
   "metadata": {},
   "outputs": [],
   "source": [
    "# final_df = processed_df.merge(rt_df,on=[\"session\",\"animal_id\",\"index\"])"
   ]
  },
  {
   "cell_type": "code",
   "execution_count": 43,
   "id": "de23c7b8",
   "metadata": {},
   "outputs": [],
   "source": [
    "final_df = final_df.reset_index()\n"
   ]
  },
  {
   "cell_type": "code",
   "execution_count": 44,
   "id": "aeb47077",
   "metadata": {},
   "outputs": [
    {
     "data": {
      "text/html": [
       "<div>\n",
       "<style scoped>\n",
       "    .dataframe tbody tr th:only-of-type {\n",
       "        vertical-align: middle;\n",
       "    }\n",
       "\n",
       "    .dataframe tbody tr th {\n",
       "        vertical-align: top;\n",
       "    }\n",
       "\n",
       "    .dataframe thead th {\n",
       "        text-align: right;\n",
       "    }\n",
       "</style>\n",
       "<table border=\"1\" class=\"dataframe\">\n",
       "  <thead>\n",
       "    <tr style=\"text-align: right;\">\n",
       "      <th></th>\n",
       "      <th>chnc</th>\n",
       "      <th>chosen_action</th>\n",
       "      <th>rewarded</th>\n",
       "    </tr>\n",
       "  </thead>\n",
       "  <tbody>\n",
       "    <tr>\n",
       "      <th>0</th>\n",
       "      <td>[32]</td>\n",
       "      <td>left</td>\n",
       "      <td>rewarded</td>\n",
       "    </tr>\n",
       "    <tr>\n",
       "      <th>1</th>\n",
       "      <td>[54]</td>\n",
       "      <td>left</td>\n",
       "      <td>rewarded</td>\n",
       "    </tr>\n",
       "    <tr>\n",
       "      <th>2</th>\n",
       "      <td>[21]</td>\n",
       "      <td>left</td>\n",
       "      <td>rewarded</td>\n",
       "    </tr>\n",
       "    <tr>\n",
       "      <th>3</th>\n",
       "      <td>[8]</td>\n",
       "      <td>left</td>\n",
       "      <td>rewarded</td>\n",
       "    </tr>\n",
       "    <tr>\n",
       "      <th>4</th>\n",
       "      <td>[10]</td>\n",
       "      <td>right</td>\n",
       "      <td>unrewarded</td>\n",
       "    </tr>\n",
       "    <tr>\n",
       "      <th>...</th>\n",
       "      <td>...</td>\n",
       "      <td>...</td>\n",
       "      <td>...</td>\n",
       "    </tr>\n",
       "    <tr>\n",
       "      <th>299830</th>\n",
       "      <td>[61]</td>\n",
       "      <td>right</td>\n",
       "      <td>unrewarded</td>\n",
       "    </tr>\n",
       "    <tr>\n",
       "      <th>299831</th>\n",
       "      <td>[39]</td>\n",
       "      <td>left</td>\n",
       "      <td>rewarded</td>\n",
       "    </tr>\n",
       "    <tr>\n",
       "      <th>299832</th>\n",
       "      <td>[53]</td>\n",
       "      <td>left</td>\n",
       "      <td>rewarded</td>\n",
       "    </tr>\n",
       "    <tr>\n",
       "      <th>299833</th>\n",
       "      <td>[54]</td>\n",
       "      <td>left</td>\n",
       "      <td>rewarded</td>\n",
       "    </tr>\n",
       "    <tr>\n",
       "      <th>299834</th>\n",
       "      <td>[62]</td>\n",
       "      <td>left</td>\n",
       "      <td>unrewarded</td>\n",
       "    </tr>\n",
       "  </tbody>\n",
       "</table>\n",
       "<p>299835 rows × 3 columns</p>\n",
       "</div>"
      ],
      "text/plain": [
       "        chnc chosen_action    rewarded\n",
       "0       [32]          left    rewarded\n",
       "1       [54]          left    rewarded\n",
       "2       [21]          left    rewarded\n",
       "3        [8]          left    rewarded\n",
       "4       [10]         right  unrewarded\n",
       "...      ...           ...         ...\n",
       "299830  [61]         right  unrewarded\n",
       "299831  [39]          left    rewarded\n",
       "299832  [53]          left    rewarded\n",
       "299833  [54]          left    rewarded\n",
       "299834  [62]          left  unrewarded\n",
       "\n",
       "[299835 rows x 3 columns]"
      ]
     },
     "execution_count": 44,
     "metadata": {},
     "output_type": "execute_result"
    }
   ],
   "source": [
    "all_conflicts[[\"chnc\",\"chosen_action\",\"rewarded\"]]"
   ]
  },
  {
   "cell_type": "code",
   "execution_count": null,
   "id": "fe645e18",
   "metadata": {},
   "outputs": [],
   "source": []
  },
  {
   "cell_type": "code",
   "execution_count": null,
   "id": "df5312ee",
   "metadata": {},
   "outputs": [],
   "source": [
    "# just_rts[\"conflict\"] = [x.split('Conf')[0]  for x in just_rts[\"exp_type\"]]\n",
    "# just_rts[\"volatility\"] = [x.split('Vol')[0].split('Conf')[1]  for x in just_rts[\"exp_type\"]]\n"
   ]
  },
  {
   "cell_type": "code",
   "execution_count": null,
   "id": "1f22d43d",
   "metadata": {},
   "outputs": [],
   "source": [
    "# just_rts[\"animal_id\"] = just_rts[\"animal_id\"].astype(str)"
   ]
  },
  {
   "cell_type": "code",
   "execution_count": null,
   "id": "10f5c635",
   "metadata": {},
   "outputs": [],
   "source": [
    "# for grp in all_conflicts.groupby([\"animal_id\"]):\n",
    "#     g2 = sns.catplot(x=\"conflict\",y=\"optimal_action\",hue=\"condition\",data=grp[1],kind='point',order=[\"No\",\"Low\",\"High\"],hue_order=[\"Control\",\"D1-Stim\",\"D2-Stim\"],col='volatility',col_order=[\"Low\",\"High\"])\n",
    "#     g2.figure.suptitle(\"animal_id: \"+str(grp[0]))\n",
    "#     g2.figure.subplots_adjust(top=0.93)\n",
    "#     g2.savefig(figure_dir+\"conflict_vs_performance_vs_condition_animal_id_\"+str(grp[0])+\".png\")"
   ]
  },
  {
   "cell_type": "code",
   "execution_count": null,
   "id": "5489a017",
   "metadata": {},
   "outputs": [],
   "source": [
    "# plt.rc_context({'lines.linewidth': 3.5})\n",
    "for grp in all_conflicts.groupby([\"animal_id\"]):\n",
    "    fig,ax = pl.subplots(2,2,figsize=(24,20))\n",
    "    rts_range=[]\n",
    "    perf_range =[]\n",
    "    for i,vol in enumerate([\"Low\",\"High\"]):\n",
    "        gp1 = grp[1].loc[grp[1][\"volatility\"]==vol]\n",
    "        ax[i][0].set_title(\"volatility = \"+vol,fontsize=20)\n",
    "        sns.pointplot(x=\"conflict\",y=\"optimal_action\",hue=\"condition\",data=gp1,ax=ax[i][0],order=[\"No\",\"Low\",\"High\"],hue_order=[\"dSPN-Control\",\"iSPN-Control\",\"dSPN-Stim\",\"iSPN-Stim\"],scale=1.5)\n",
    "        perf_range.append(ax[i][0].get_ylim())\n",
    "        ax[i][1].set_title(\"volatility = \"+vol,fontsize=20)\n",
    "        sns.pointplot(x=\"conflict\",y=\"RT(ms)\",hue=\"condition\",data=gp1,ax=ax[i][1],order=[\"No\",\"Low\",\"High\"],hue_order=[\"dSPN-Control\",\"iSPN-Control\",\"dSPN-Stim\",\"iSPN-Stim\"],scale=1.5)        \n",
    "        rts_range.append(ax[i][1].get_ylim())\n",
    "\n",
    "    rts_min,rts_max = np.min(np.hstack(rts_range)),np.max(np.hstack(rts_range))\n",
    "    p_min,p_max = np.min(np.hstack(perf_range)),np.max(np.hstack(perf_range))\n",
    "    for i,vol in enumerate([\"Low\",\"High\"]):\n",
    "        ax[i][0].set_ylim(p_min,p_max)\n",
    "        ax[i][1].set_ylim(rts_min,rts_max)\n",
    "    for x in np.hstack(ax):\n",
    "        x.set_ylabel(x.get_ylabel(),fontsize=20)\n",
    "        x.set_ylabel(x.get_ylabel(),fontsize=20)\n",
    "        for xt in x.get_xticklabels():\n",
    "            xt.set_fontsize(15)\n",
    "        for yt in x.get_yticklabels():\n",
    "            yt.set_fontsize(15)\n",
    "            \n",
    "        \n",
    "    fig.suptitle(\"animal_id: \"+str(grp[0]))\n",
    "    \n",
    "    fig.subplots_adjust(top=0.95,left=0.06,right=0.96,bottom=0.06)\n",
    "    fig.savefig(figure_dir+\"conflict_volatility_condition_RT_performance_animal_\"+str(grp[0])+\".png\")"
   ]
  },
  {
   "cell_type": "code",
   "execution_count": null,
   "id": "b176001d",
   "metadata": {},
   "outputs": [],
   "source": [
    "palette=['firebrick','red','royalblue','cyan']\n",
    "g1 = sns.catplot(x=\"conflict\",y=\"optimal_action\",hue=\"condition\",col='volatility',order=[\"No\",\"Low\",\"High\"],hue_order=[\"iSPN-Control\",\"iSPN-Stim\",\"dSPN-Control\",\"dSPN-Stim\"],col_order=[\"Low\",\"High\"],data=all_conflicts,kind='bar',palette=palette,height=10,aspect=1)\n",
    "g1.figure.savefig(figure_dir+\"summary_figure_performance.png\")"
   ]
  },
  {
   "cell_type": "code",
   "execution_count": null,
   "id": "0cabbf6f",
   "metadata": {},
   "outputs": [],
   "source": [
    "palette=['firebrick','red','royalblue','cyan']\n",
    "g1 = sns.catplot(x=\"conflict\",y=\"RT(ms)\",hue=\"condition\",col='volatility',order=[\"No\",\"Low\",\"High\"],hue_order=[\"iSPN-Control\",\"iSPN-Stim\",\"dSPN-Control\",\"dSPN-Stim\"],col_order=[\"Low\",\"High\"],data=all_conflicts,kind='bar',palette=palette,height=10,aspect=1)\n",
    "g1.figure.savefig(figure_dir+\"summary_figure_rt.png\")"
   ]
  },
  {
   "cell_type": "code",
   "execution_count": null,
   "id": "5de21e3f",
   "metadata": {},
   "outputs": [],
   "source": [
    "# for grp in all_conflicts.groupby([\"animal_id\"]):\n",
    "#     g1 = sns.catplot(x=\"conflict\",y=\"RT(ms)\",hue=\"condition\",data=grp[1],kind='point',order=[\"No\",\"Low\",\"High\"],hue_order=[\"Control\",\"D1-Stim\",\"D2-Stim\"],col='volatility',col_order=[\"Low\",\"High\"])\n",
    "#     g1.figure.suptitle(\"animal_id: \"+str(grp[0]))\n",
    "#     g1.figure.subplots_adjust(top=0.93)\n",
    "#     g1.savefig(figure_dir+\"conflict_vs_rt_vs_condition_animal_id_\"+str(grp[0])+\".png\")"
   ]
  },
  {
   "cell_type": "code",
   "execution_count": null,
   "id": "83b7aee1",
   "metadata": {},
   "outputs": [],
   "source": [
    "g1.figure.axes[1]"
   ]
  },
  {
   "cell_type": "code",
   "execution_count": null,
   "id": "397442d8",
   "metadata": {},
   "outputs": [],
   "source": []
  },
  {
   "cell_type": "code",
   "execution_count": null,
   "id": "e743e9d4",
   "metadata": {},
   "outputs": [],
   "source": [
    "all_conflicts = pd.read_csv(data_target_dir+\"all_experiments_df_with_DTs.csv\")"
   ]
  },
  {
   "cell_type": "code",
   "execution_count": null,
   "id": "f98ffa6e",
   "metadata": {},
   "outputs": [],
   "source": [
    "all_conflicts"
   ]
  },
  {
   "cell_type": "code",
   "execution_count": null,
   "id": "aa2aa151",
   "metadata": {},
   "outputs": [],
   "source": []
  },
  {
   "cell_type": "code",
   "execution_count": null,
   "id": "2b281199",
   "metadata": {},
   "outputs": [],
   "source": [
    "# fig,ax = pl.subplots(1,1,figsize=(10,8))\n",
    "# # sns.histplot(x=\"RT(ms)\",data=all_conflicts,hue='conflict + volatility',log_scale=True,element='step',ax=ax,kde=True,alpha=0.05,stat='density',line_kws={'linewidth':4.5})\n",
    "# sns.histplot(x=\"RT(ms)\",data=all_conflicts,element='step',ax=ax,alpha=0.05,stat='probability',line_kws={'linewidth':4.5},hue='animal_id',palette='tab10')\n",
    "# ax.set_xlim(0,8000)\n",
    "# fig.savefig(figure_dir+\"Exanple_RT_distribution.png\")"
   ]
  },
  {
   "cell_type": "code",
   "execution_count": null,
   "id": "65d181a9",
   "metadata": {},
   "outputs": [],
   "source": [
    "all_conflicts.loc[all_conflicts[\"RT(ms)\"]==np.max(all_conflicts[\"RT(ms)\"])]"
   ]
  },
  {
   "cell_type": "code",
   "execution_count": null,
   "id": "5386ebf4",
   "metadata": {},
   "outputs": [],
   "source": [
    "col_order = [x+\" - \"+y  for y in [\"Low\",\"High\"]  for x in [\"No\",\"Low\",\"High\"]]\n",
    "# g2 = sns.displot(x=\"RT(ms)\",hue=\"optimal_action\",col='conflict + volatility',data=all_conflicts,col_wrap=3,alpha=0.1,line_kws={'linewidth':4.5},col_order=col_order,multiple='dodge',element='step',bins=10)\n",
    "# for ax in g2.axes:\n",
    "#     ax.set_xlim(0,8000)\n",
    "# g2.savefig(figure_dir+\"Correct_vs_incorrect_action_RTs.png\")"
   ]
  },
  {
   "cell_type": "code",
   "execution_count": null,
   "id": "860d9b70",
   "metadata": {},
   "outputs": [],
   "source": [
    "g3 = sns.displot(x=\"RT(ms)\",hue=\"rewarded\",col='conflict + volatility',data=all_conflicts.loc[all_conflicts[\"condition\"]==\"Control\"],col_wrap=3,element='step',alpha=0.05,stat='density',line_kws={'linewidth':4.5})\n",
    "for ax in g3.axes:\n",
    "    ax.set_xlim(0,5000)\n",
    "\n",
    "g3.savefig(figure_dir+\"Rewarded_vs_unrewarded_RTs_control.png\")"
   ]
  },
  {
   "cell_type": "code",
   "execution_count": null,
   "id": "b25b7cac",
   "metadata": {},
   "outputs": [],
   "source": [
    "g3 = sns.displot(x=\"RT(ms)\",hue=\"rewarded\",col='conflict + volatility',data=all_conflicts.loc[all_conflicts[\"condition\"]==\"D1-Stim\"],col_wrap=3,element='step',alpha=0.05,stat='density',line_kws={'linewidth':4.5})\n",
    "for ax in g3.axes:\n",
    "    ax.set_xlim(0,5000)\n",
    "\n",
    "g3.savefig(figure_dir+\"Rewarded_vs_unrewarded_RTs_D1_stim.png\")"
   ]
  },
  {
   "cell_type": "code",
   "execution_count": null,
   "id": "9b7e8740",
   "metadata": {},
   "outputs": [],
   "source": [
    "g3 = sns.displot(x=\"RT(ms)\",hue=\"rewarded\",col='conflict + volatility',data=all_conflicts.loc[all_conflicts[\"condition\"]==\"D2-Stim\"],col_wrap=3,element='step',alpha=0.05,stat='density',line_kws={'linewidth':4.5})\n",
    "for ax in g3.axes:\n",
    "    ax.set_xlim(0,5000)\n",
    "\n",
    "g3.savefig(figure_dir+\"Rewarded_vs_unrewarded_RTs_D2_stim.png\")"
   ]
  },
  {
   "cell_type": "code",
   "execution_count": null,
   "id": "2aa23f7f",
   "metadata": {},
   "outputs": [],
   "source": [
    "\n",
    "from statannot import add_stat_annotation\n",
    "\n",
    "ctrl_data = all_conflicts.loc[all_conflicts[\"condition\"]==\"Control\"]\n",
    "ctrl_data = ctrl_data.dropna()\n",
    "ctrl_data[\"RT(ms)\"] = ctrl_data[\"RT(ms)\"].astype(float)\n",
    "\n",
    "g2 = sns.catplot(x=\"conflict\",y=\"RT(ms)\",col='volatility',data=ctrl_data,kind='bar',order=[\"No\",\"Low\",\"High\"],col_order=[\"Low\",\"High\"])\n",
    "for ax in g2.axes[0]:\n",
    "    vol = ax.get_title().split(' = ')[1]\n",
    "    print(vol)\n",
    "    vol_data = ctrl_data.loc[ctrl_data[\"volatility\"]==vol]\n",
    "    print(vol_data)\n",
    "    add_stat_annotation(ax, data=vol_data, x=\"conflict\", y=\"RT(ms)\", order=[\"No\",\"Low\",\"High\"],\n",
    "                    box_pairs=[(\"No\", \"Low\"), (\"Low\", \"High\"), (\"No\", \"High\")],\n",
    "                    test='Mann-Whitney', text_format='star', loc='outside', verbose=2, line_offset=0.1)\n",
    "    #ax.set_yscale(\"log\")\n",
    "    \n",
    "g2.savefig(figure_dir+\"Correct_vs_incorrect_action_RTs_comparison_control.png\")"
   ]
  },
  {
   "cell_type": "raw",
   "id": "e8372275",
   "metadata": {},
   "source": [
    " \n"
   ]
  },
  {
   "cell_type": "code",
   "execution_count": null,
   "id": "47c8d1a6",
   "metadata": {},
   "outputs": [],
   "source": [
    "stim_data = all_conflicts.loc[all_conflicts[\"condition\"].str.contains(\"Stim\")]\n",
    "stim_data = stim_data.dropna()\n",
    "stim_data[\"RT(ms)\"] = stim_data[\"RT(ms)\"].astype(float)\n",
    "d1_stim_data = stim_data.loc[stim_data[\"condition\"]==\"D1-Stim\"]\n",
    "d2_stim_data = stim_data.loc[stim_data[\"condition\"]==\"D2-Stim\"]\n",
    "\n",
    "print(np.unique(stim_data[\"condition\"]))\n",
    "dat_type = [\"d1_stimulation\",\"d2_stimulation\"]\n",
    "\n",
    "for i,sd in enumerate([d1_stim_data,d2_stim_data]):\n",
    "\n",
    "    g2 = sns.catplot(x=\"conflict\",y=\"RT(ms)\",col='volatility',data=sd,kind='bar',order=[\"No\",\"Low\",\"High\"],col_order=[\"Low\",\"High\"])\n",
    "    for ax in g2.axes[0]:\n",
    "        vol = ax.get_title().split(' = ')[1]\n",
    "        print(vol)\n",
    "        vol_data = sd.loc[sd[\"volatility\"]==vol]\n",
    "\n",
    "        add_stat_annotation(ax, data=vol_data, x=\"conflict\", y=\"RT(ms)\", order=[\"No\",\"Low\",\"High\"],\n",
    "                        box_pairs=[(\"No\", \"Low\"), (\"Low\", \"High\"), (\"No\", \"High\")],\n",
    "                        test='Mann-Whitney', text_format='star', loc='outside', verbose=2, line_offset=0.1)\n",
    "        #ax.set_yscale(\"log\")\n",
    "\n",
    "    g2.savefig(figure_dir+\"Correct_vs_incorrect_action_RTs_comparison_\"+dat_type[i]+\".png\")"
   ]
  },
  {
   "cell_type": "code",
   "execution_count": null,
   "id": "1f73a603",
   "metadata": {},
   "outputs": [],
   "source": [
    "all_conflicts\n"
   ]
  },
  {
   "cell_type": "code",
   "execution_count": null,
   "id": "d999bfa6",
   "metadata": {},
   "outputs": [],
   "source": []
  },
  {
   "cell_type": "code",
   "execution_count": null,
   "id": "4184626f",
   "metadata": {},
   "outputs": [],
   "source": [
    "\n"
   ]
  },
  {
   "cell_type": "code",
   "execution_count": null,
   "id": "674bf699",
   "metadata": {},
   "outputs": [],
   "source": []
  },
  {
   "cell_type": "code",
   "execution_count": null,
   "id": "36a5428c",
   "metadata": {},
   "outputs": [],
   "source": []
  },
  {
   "cell_type": "code",
   "execution_count": null,
   "id": "c80f283a",
   "metadata": {},
   "outputs": [],
   "source": []
  }
 ],
 "metadata": {
  "kernelspec": {
   "display_name": "Python 3 (ipykernel)",
   "language": "python",
   "name": "python3"
  },
  "language_info": {
   "codemirror_mode": {
    "name": "ipython",
    "version": 3
   },
   "file_extension": ".py",
   "mimetype": "text/x-python",
   "name": "python",
   "nbconvert_exporter": "python",
   "pygments_lexer": "ipython3",
   "version": "3.8.12"
  }
 },
 "nbformat": 4,
 "nbformat_minor": 5
}
