{
 "cells": [
  {
   "cell_type": "code",
   "execution_count": 1,
   "id": "49b57b64",
   "metadata": {},
   "outputs": [],
   "source": [
    "import pandas as pd\n",
    "import numpy as np\n",
    "import pylab as pl\n",
    "import scipy.io as sio\n",
    "import seaborn as sns\n",
    "import statsmodels.api as sm\n",
    "import funcs as func\n",
    "import sys\n",
    "import pdb\n",
    "import glob\n",
    "\n",
    "data_dir = \"../../Data/Y_maze/Decision_times/\"\n",
    "data_target_dir = \"../../Data/processed_data/Y_maze/\"\n"
   ]
  },
  {
   "cell_type": "code",
   "execution_count": 2,
   "id": "254ec21e",
   "metadata": {},
   "outputs": [],
   "source": [
    "#experiment_type = \"NoConfLowVolDTs\"\n",
    "\n"
   ]
  },
  {
   "cell_type": "code",
   "execution_count": 3,
   "id": "fde55895",
   "metadata": {},
   "outputs": [],
   "source": [
    "col_names = [\"time (ms)\",\"event_marker\",\"current_trial_num_in_block\",\"block\",\"low_rew_%\",\"high_rew_%\",\"low_trial_range(block)\",\"high_trial_range(block)\",\"block#\",\"rewarded_trial_count\",\"total_trial_count\",\"sig\",\"x_pos\",\"y_pos\",\"trip\",\"chnc\",\"current_hall\",\"previous_hall\",\"lick_rate_hall1\",\"lick_rate_hall2\",\"lick_rate_hall3\",\"wtr\",\"mouse_distance\",\"TTL\"]\n",
    "\n",
    "non_action_em = [0,11,12,9,10]\n",
    "left_action_em = [1,2,3,4]\n",
    "right_action_em = [5,6,7,8]\n",
    "rewarded_em = [1,3,5,7]\n",
    "unrewarded_em = [2,4,6,8]"
   ]
  },
  {
   "cell_type": "code",
   "execution_count": 4,
   "id": "6b7cd1e8",
   "metadata": {},
   "outputs": [],
   "source": [
    "def read_raw_data(mat):\n",
    "    # block, 0 = left, 1 = right\n",
    "    #columns = [\"time (ms)\", \"event_markers\", \"current_trial_num_in_block\",\"block\",\"reward_probability\",\"conflict\",\"volatility\",\"block_num\",\"rewarded\",\"action_chosen\",\"condition\"]\n",
    "    r,c = np.shape(mat[0])\n",
    "    raw_df = pd.DataFrame(columns = list(np.arange(0,c,1))+[\"session\"])\n",
    "\n",
    "    for i in np.arange(len(mat)):\n",
    "        temp = pd.DataFrame(mat[i])\n",
    "        temp[\"session\"] = i\n",
    "        raw_df = raw_df.append(temp)\n",
    "\n",
    "    return raw_df\n",
    "\n",
    "\n",
    "\n",
    "def process_raw(raw,experiment_type):\n",
    "    processed_df = pd.DataFrame(columns=[\"conflict\",\"condition\",\"volatility\",\"event_marker\",\"block\",\"reward_probability\",\"trial_length_range\",\"session\",\"block_num\",\"trial_num\",\"chosen_action\",\"rewarded\"])\n",
    "    conf = experiment_type.split('Conf')[0]\n",
    "    #cond = experiment_type.split('Vol')[1]\n",
    "    cond = \"Control\" # change when stim data is here !!!!!!\n",
    "    vol = experiment_type.split('Vol')[0].split('Conf')[1]\n",
    "    for grp in raw_df.groupby([\"session\",\"block#\",\"current_trial_num_in_block\"]):\n",
    "        temp = dict()\n",
    "        temp[\"session\"] = grp[0][0]\n",
    "        temp[\"conflict\"] = conf\n",
    "        temp[\"volatility\"] = vol\n",
    "        temp[\"condition\"] = cond\n",
    "        temp[\"block_num\"] = grp[0][1]\n",
    "        temp[\"trial_num\"] = grp[0][2]\n",
    "#         time_before_iti = grp[1].loc[grp[1][\"event_marker\"]!=12]\n",
    "#         temp[\"RT(ms)\"] = np.max(time_before_iti[\"time (ms)\"]) - np.min(time_before_iti[\"time (ms)\"])\n",
    "        action_em = list(set(np.unique(grp[1][\"event_marker\"]))-set(non_action_em))\n",
    "        #print(action_em)       \n",
    "        if len(action_em) == 1:\n",
    "            temp[\"event_marker\"] = action_em[0]\n",
    "            if action_em[0] in left_action_em:\n",
    "                temp[\"chosen_action\"] = \"left\"\n",
    "            elif action_em[0] in right_action_em:\n",
    "                temp[\"chosen_action\"] = \"right\"\n",
    "            if action_em[0] in rewarded_em:\n",
    "                temp[\"rewarded\"] = \"rewarded\"\n",
    "            elif action_em[0] in unrewarded_em:\n",
    "                temp[\"rewarded\"] = \"unrewarded\"\n",
    "        else:\n",
    "            #print(\"no action ems\",np.unique(grp[1][\"event_marker\"]))\n",
    "            #print(grp[0])\n",
    "            temp[\"event_marker\"] = np.nan\n",
    "            temp[\"reward_probability\"] = np.nan\n",
    "            temp[\"chosen_action\"] = np.nan\n",
    "            temp[\"rewarded\"] = np.nan\n",
    "\n",
    "        temp[\"block\"] = \"left\" if np.unique(grp[1][\"block\"])[0] == 0 else \"right\"\n",
    "        temp[\"trial_length_range\"] = str(np.unique(grp[1][\"low_trial_range(block)\"])[0])+\"-\"+str(np.unique(grp[1][\"high_trial_range(block)\"])[0])\n",
    "\n",
    "        temp[\"reward_probability\"] = str(np.unique(grp[1][\"low_rew_%\"])[0])+\"-\"+str(np.unique(grp[1][\"high_rew_%\"])[0])\n",
    "        temp[\"optimal_action\"] = 1 if temp[\"block\"] == temp[\"chosen_action\"] else 0\n",
    "        processed_df = processed_df.append(temp,ignore_index=True)\n",
    "\n",
    "    return processed_df\n",
    "\n"
   ]
  },
  {
   "cell_type": "code",
   "execution_count": 5,
   "id": "bd582c6f",
   "metadata": {},
   "outputs": [
    {
     "name": "stdout",
     "output_type": "stream",
     "text": [
      "../../Data/Y_maze/Decision_times/NoConfLowVolDTs.mat\n",
      "../../Data/Y_maze/Decision_times/HighConfHighVolDTs.mat\n",
      "../../Data/Y_maze/Decision_times/LowConfLowVolDTs.mat\n",
      "../../Data/Y_maze/Decision_times/NoConfHighVolDTs.mat\n",
      "../../Data/Y_maze/Decision_times/HighConfHighVolDTs (1).mat\n",
      "../../Data/Y_maze/Decision_times/LowConfHighVolDTs.mat\n",
      "../../Data/Y_maze/Decision_times/HighConfLowVolDTs.mat\n"
     ]
    }
   ],
   "source": [
    "all_conflicts = pd.DataFrame()\n",
    "\n",
    "exp_files = glob.glob(data_dir+\"*.mat\")\n",
    "exp_files\n",
    "for ef in exp_files:\n",
    "    print(ef)\n",
    "    exp_type = ef.split('/')[-1].split('.')[0]\n",
    "    exp_mat = sio.loadmat(ef)\n",
    "    raw_df = read_raw_data(exp_mat['overlap'][0])\n",
    "    # Replace the column numbers with the labels that Julia gave\n",
    "    raw_df = raw_df.rename(columns={i:cn for i,cn in zip(np.arange(len(col_names)),col_names)})\n",
    "    processed_df = process_raw(raw_df,exp_type)\n",
    "    processed_df = processed_df.dropna()\n",
    "    \n",
    "    rt_df = read_raw_data(exp_mat['overlap'][1])\n",
    "    rt_df = rt_df.rename(columns ={0:\"RT(ms)\"})\n",
    "    final_df = processed_df.merge(rt_df,on=\"session\")\n",
    "    final_df.to_csv(data_target_dir+exp_type+\"_processed.csv\")\n",
    "    \n",
    "    all_conflicts = all_conflicts.append(final_df)\n",
    "    \n",
    "    "
   ]
  },
  {
   "cell_type": "code",
   "execution_count": 7,
   "id": "397442d8",
   "metadata": {},
   "outputs": [],
   "source": [
    "all_conflicts.to_csv(data_target_dir+\"all_experiments_df_with_DTs.csv\")\n"
   ]
  },
  {
   "cell_type": "code",
   "execution_count": null,
   "id": "2b281199",
   "metadata": {},
   "outputs": [],
   "source": [
    "sns.histplot(x=\"RT(ms)\",data=all_conflicts,hue='')"
   ]
  },
  {
   "cell_type": "code",
   "execution_count": null,
   "id": "5386ebf4",
   "metadata": {},
   "outputs": [],
   "source": []
  },
  {
   "cell_type": "code",
   "execution_count": null,
   "id": "860d9b70",
   "metadata": {},
   "outputs": [],
   "source": []
  },
  {
   "cell_type": "code",
   "execution_count": null,
   "id": "2aa23f7f",
   "metadata": {},
   "outputs": [],
   "source": []
  },
  {
   "cell_type": "code",
   "execution_count": null,
   "id": "b4d8c7ac",
   "metadata": {},
   "outputs": [],
   "source": [
    "\n"
   ]
  },
  {
   "cell_type": "code",
   "execution_count": null,
   "id": "47c8d1a6",
   "metadata": {},
   "outputs": [],
   "source": []
  },
  {
   "cell_type": "code",
   "execution_count": null,
   "id": "1f73a603",
   "metadata": {},
   "outputs": [],
   "source": [
    "\n"
   ]
  },
  {
   "cell_type": "code",
   "execution_count": null,
   "id": "d999bfa6",
   "metadata": {},
   "outputs": [],
   "source": []
  },
  {
   "cell_type": "code",
   "execution_count": null,
   "id": "4184626f",
   "metadata": {},
   "outputs": [],
   "source": [
    "\n"
   ]
  },
  {
   "cell_type": "code",
   "execution_count": null,
   "id": "674bf699",
   "metadata": {},
   "outputs": [],
   "source": []
  },
  {
   "cell_type": "code",
   "execution_count": null,
   "id": "36a5428c",
   "metadata": {},
   "outputs": [],
   "source": []
  },
  {
   "cell_type": "code",
   "execution_count": null,
   "id": "c80f283a",
   "metadata": {},
   "outputs": [],
   "source": []
  }
 ],
 "metadata": {
  "kernelspec": {
   "display_name": "Python 3",
   "language": "python",
   "name": "python3"
  },
  "language_info": {
   "codemirror_mode": {
    "name": "ipython",
    "version": 3
   },
   "file_extension": ".py",
   "mimetype": "text/x-python",
   "name": "python",
   "nbconvert_exporter": "python",
   "pygments_lexer": "ipython3",
   "version": "3.7.6"
  }
 },
 "nbformat": 4,
 "nbformat_minor": 5
}
