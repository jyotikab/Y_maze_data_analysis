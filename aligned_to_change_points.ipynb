{
 "cells": [
  {
   "cell_type": "code",
   "execution_count": null,
   "id": "2f50dda2",
   "metadata": {},
   "outputs": [],
   "source": [
    "import pandas as pd\n",
    "import numpy as np\n",
    "import pylab as pl\n",
    "import scipy.io as sio\n",
    "import seaborn as sns\n",
    "import statsmodels.api as sm\n",
    "import funcs as func\n",
    "import matplotlib.pyplot as plt\n",
    "import sys\n",
    "import pdb\n",
    "import glob\n",
    "import pickle\n",
    "import dill\n",
    "\n",
    "import sys\n",
    "sys.path.append('/home/jyotika/Utils/hddm/')\n",
    "\n",
    "import hddm\n",
    "\n",
    "data_dir = \"./Data/processed_data/Y_maze/data_with_animal_ids/\"\n",
    "data_target_dir = \"./Data/processed_data/Y_maze/data_with_animal_ids/for_b_cpp_calculation/\"\n",
    "figure_dir = \"./Figures/Y_maze/\"\n",
    "\n",
    "plt.rcParams[\"figure.facecolor\"] = \"w\"\n",
    "import sys\n",
    "\n",
    "import warnings\n",
    "warnings.simplefilter(action='ignore', category=FutureWarning)\n",
    "\n",
    "\n"
   ]
  },
  {
   "cell_type": "code",
   "execution_count": null,
   "id": "64fe731f",
   "metadata": {},
   "outputs": [],
   "source": [
    "all_conflicts = pd.read_csv(data_target_dir+\"all_experiments_df_with_DTs.csv\")"
   ]
  },
  {
   "cell_type": "code",
   "execution_count": null,
   "id": "15803d58",
   "metadata": {},
   "outputs": [],
   "source": [
    "np.unique(all_conflicts[\"trial_length_range\"])"
   ]
  },
  {
   "cell_type": "code",
   "execution_count": null,
   "id": "f37c2a43",
   "metadata": {},
   "outputs": [],
   "source": [
    "block_change_aligned_df = pd.DataFrame()\n",
    "for grp in all_conflicts.groupby([\"conflict\",\"volatility\",\"animal_id\",\"condition\",\"session\"]):\n",
    "    print(grp[0])\n",
    "    dat_slice = grp[1].copy()\n",
    "    dat_slice[\"block_change\"] = (grp[1][\"block_num\"]!=grp[1][\"block_num\"].shift()).astype(int)\n",
    "    ind_block_change = np.where(dat_slice[\"block_change\"])[0]\n",
    "    print(ind_block_change)\n",
    "    for x in ind_block_change[1:]:\n",
    "        if dat_slice.iloc[x-1][\"block\"] == \"left\" and dat_slice.iloc[x][\"block\"] == \"right\":\n",
    "            bc_type = \"left->right\"\n",
    "        elif dat_slice.iloc[x-1][\"block\"] == \"right\" and dat_slice.iloc[x][\"block\"] == \"left\":\n",
    "            bc_type = \"right->left\"\n",
    "        bn_change = str(dat_slice.iloc[x-1][\"block_num\"])+\"->\"+str(dat_slice.iloc[x][\"block_num\"])\n",
    "        for i in np.arange(x-2,x+10):\n",
    "            if i > np.max(ind_block_change):\n",
    "                continue\n",
    "            #print(i)\n",
    "            sub_slice = dat_slice.iloc[i]\n",
    "            sub_slice[\"trials_from_change_point\"] = i-x\n",
    "            sub_slice[\"block_change_type\"] = bc_type\n",
    "            sub_slice[\"block_num_change\"] = bn_change\n",
    "            block_change_aligned_df = block_change_aligned_df.append(sub_slice)\n",
    "\n",
    "         "
   ]
  },
  {
   "cell_type": "code",
   "execution_count": null,
   "id": "d1090b30",
   "metadata": {},
   "outputs": [],
   "source": [
    "block_change_aligned_df = block_change_aligned_df.reset_index(drop=True)   "
   ]
  },
  {
   "cell_type": "code",
   "execution_count": null,
   "id": "0cd55341",
   "metadata": {},
   "outputs": [],
   "source": [
    "block_change_aligned_df.iloc[np.where(block_change_aligned_df.index.duplicated())]"
   ]
  },
  {
   "cell_type": "code",
   "execution_count": null,
   "id": "fa0bd3a7",
   "metadata": {},
   "outputs": [],
   "source": [
    "block_change_aligned_df.to_csv(data_target_dir+\"block_change_aligned_df.csv\")"
   ]
  },
  {
   "cell_type": "code",
   "execution_count": null,
   "id": "2b3a28a2",
   "metadata": {},
   "outputs": [],
   "source": [
    "block_change_aligned_df"
   ]
  },
  {
   "cell_type": "code",
   "execution_count": null,
   "id": "749617ea",
   "metadata": {},
   "outputs": [],
   "source": [
    "\n",
    "    "
   ]
  }
 ],
 "metadata": {
  "kernelspec": {
   "display_name": "Python 3 (ipykernel)",
   "language": "python",
   "name": "python3"
  },
  "language_info": {
   "codemirror_mode": {
    "name": "ipython",
    "version": 3
   },
   "file_extension": ".py",
   "mimetype": "text/x-python",
   "name": "python",
   "nbconvert_exporter": "python",
   "pygments_lexer": "ipython3",
   "version": "3.8.12"
  }
 },
 "nbformat": 4,
 "nbformat_minor": 5
}
